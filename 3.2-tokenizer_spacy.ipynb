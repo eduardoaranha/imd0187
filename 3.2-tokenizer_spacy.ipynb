{
 "cells": [
  {
   "cell_type": "markdown",
   "metadata": {},
   "source": [
    "# Tokenização de textos em inglês com spacy\n",
    "---"
   ]
  },
  {
   "cell_type": "code",
   "execution_count": 1,
   "metadata": {},
   "outputs": [
    {
     "name": "stdout",
     "output_type": "stream",
     "text": [
      "[Mr. John eats a lot., He has a Ph.D. in food.]\n"
     ]
    }
   ],
   "source": [
    "from spacy.lang.en import English\n",
    "nlp = English()\n",
    "sentencizer = nlp.create_pipe(\"sentencizer\")\n",
    "nlp.add_pipe(sentencizer)\n",
    "text_en = u\"Mr. John eats a lot. He has a Ph.D. in food.\"\n",
    "doc_en = nlp(text_en)\n",
    "print(list(doc_en.sents))\n"
   ]
  },
  {
   "cell_type": "code",
   "execution_count": 2,
   "metadata": {},
   "outputs": [
    {
     "name": "stdout",
     "output_type": "stream",
     "text": [
      "[Mr., John, eats, a, lot, ., He, has, a, Ph.D., in, food, .]\n"
     ]
    }
   ],
   "source": [
    "tokenizer = nlp.Defaults.create_tokenizer(nlp)\n",
    "tokens = tokenizer(text_en)\n",
    "print(list(tokens))\n"
   ]
  },
  {
   "cell_type": "markdown",
   "metadata": {},
   "source": [
    "# Tokenização de textos em português com spacy\n",
    "---"
   ]
  },
  {
   "cell_type": "code",
   "execution_count": 3,
   "metadata": {},
   "outputs": [
    {
     "name": "stdout",
     "output_type": "stream",
     "text": [
      "[Aquele é o Sr. João Alves., Ele tem Ph.D. em computação, não é?, Que bom!, Ele me disse “olá!”, uma vez.]\n"
     ]
    }
   ],
   "source": [
    "# Extraindo sentenças em português com o spyce\n",
    "from spacy.lang.pt import Portuguese\n",
    "nlp_pt = Portuguese()\n",
    "sentencizer = nlp_pt.create_pipe(\"sentencizer\")\n",
    "nlp_pt.add_pipe(sentencizer)\n",
    "text = u'Aquele é o sr. João Alves. Ele tem Ph.D. em computação, não é? Que bom! Ele me disse “olá!” uma vez.'\n",
    "doc = nlp_pt(text)\n",
    "print(list(doc.sents))"
   ]
  },
  {
   "cell_type": "code",
   "execution_count": 16,
   "metadata": {},
   "outputs": [
    {
     "name": "stdout",
     "output_type": "stream",
     "text": [
      "[Aquele, é, o, sr., João, Alves, ., Ele, tem, Ph.D., em, computação, ,, não, é, ?, Que, bom, !, Ele, me, disse, “, olá, !, ”, uma, vez, .]\n"
     ]
    }
   ],
   "source": [
    "tokenizer = nlp_pt.Defaults.create_tokenizer(nlp)\n",
    "tokens = tokenizer(u'Aquele é o sr. João Alves. Ele tem Ph.D. em computação, não é? Que bom! Ele me disse “olá!” uma vez.')\n",
    "print(list(tokens))\n"
   ]
  }
 ],
 "metadata": {
  "interpreter": {
   "hash": "e876bd2ba7f66033916fe855677d8351f03a0df8f4d9fc4147f031fb68f1b0fb"
  },
  "kernelspec": {
   "display_name": "Python 3 (ipykernel)",
   "language": "python",
   "name": "python3"
  },
  "language_info": {
   "codemirror_mode": {
    "name": "ipython",
    "version": 3
   },
   "file_extension": ".py",
   "mimetype": "text/x-python",
   "name": "python",
   "nbconvert_exporter": "python",
   "pygments_lexer": "ipython3",
   "version": "3.9.12"
  }
 },
 "nbformat": 4,
 "nbformat_minor": 2
}
