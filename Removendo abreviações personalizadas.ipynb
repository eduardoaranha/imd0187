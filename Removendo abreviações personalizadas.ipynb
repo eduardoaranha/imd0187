{
 "cells": [
  {
   "cell_type": "markdown",
   "id": "5f8ab5a5",
   "metadata": {},
   "source": [
    "## Este script mostra como remover abreviações definidas pelo usuário"
   ]
  },
  {
   "cell_type": "code",
   "execution_count": 4,
   "id": "0441d618",
   "metadata": {},
   "outputs": [
    {
     "name": "stderr",
     "output_type": "stream",
     "text": [
      "[nltk_data] Downloading package wordnet to\n",
      "[nltk_data]     C:\\Users\\admin\\AppData\\Roaming\\nltk_data...\n",
      "[nltk_data]   Package wordnet is already up-to-date!\n",
      "[nltk_data] Downloading package omw-1.4 to\n",
      "[nltk_data]     C:\\Users\\admin\\AppData\\Roaming\\nltk_data...\n",
      "[nltk_data]   Package omw-1.4 is already up-to-date!\n"
     ]
    },
    {
     "data": {
      "text/plain": [
       "True"
      ]
     },
     "execution_count": 4,
     "metadata": {},
     "output_type": "execute_result"
    }
   ],
   "source": [
    "# Carregando biblioteca\n",
    "from nltk.stem import WordNetLemmatizer \n",
    "import nltk\n",
    "nltk.download('wordnet')\n",
    "nltk.download('omw-1.4')"
   ]
  },
  {
   "cell_type": "code",
   "execution_count": 5,
   "id": "02196344",
   "metadata": {},
   "outputs": [
    {
     "name": "stdout",
     "output_type": "stream",
     "text": [
      "['Mr.', 'John', 'eats', 'a', 'lot', '.', 'He', \"'s\", 'a', 'Ph.D.', 'in', 'food', '.']\n"
     ]
    },
    {
     "name": "stderr",
     "output_type": "stream",
     "text": [
      "[nltk_data] Downloading package punkt to\n",
      "[nltk_data]     C:\\Users\\admin\\AppData\\Roaming\\nltk_data...\n",
      "[nltk_data]   Package punkt is already up-to-date!\n"
     ]
    }
   ],
   "source": [
    "# Exemplificando como extrair sentenças em inglês\n",
    "nltk.download('punkt')\n",
    "text_en = \"Mr. John eats a lot. He's a Ph.D. in food.\"\n",
    "tokenized_sentences = nltk.word_tokenize(text_en)\n",
    "print(tokenized_sentences)"
   ]
  },
  {
   "cell_type": "markdown",
   "id": "46fc4a42",
   "metadata": {},
   "source": [
    "### Criando dicionário e função para troca de abreviações"
   ]
  },
  {
   "cell_type": "code",
   "execution_count": 6,
   "id": "724f0257",
   "metadata": {},
   "outputs": [],
   "source": [
    "lookup_dict = {'nlp':'natural language processing',\n",
    "'ur':'your', \"'s\":'is', \"wbu\" : \"what about you\"}\n",
    "import re"
   ]
  },
  {
   "cell_type": "code",
   "execution_count": 7,
   "id": "30effde2",
   "metadata": {},
   "outputs": [],
   "source": [
    "def text_std(input_text):\n",
    "    words = nltk.word_tokenize(input_text)\n",
    "    new_words = []\n",
    "    for word in words:\n",
    "       # word = re.sub(r'[^\\w\\s]',\"\", word)\n",
    "        if word.lower() in lookup_dict:\n",
    "            word = lookup_dict[word.lower()]\n",
    "        new_words.append(word)\n",
    "    return \" \".join(new_words)"
   ]
  },
  {
   "cell_type": "markdown",
   "id": "9946d872",
   "metadata": {},
   "source": [
    "### Testando troca de abreviações"
   ]
  },
  {
   "cell_type": "code",
   "execution_count": 8,
   "id": "c9c757cb",
   "metadata": {},
   "outputs": [
    {
     "data": {
      "text/plain": [
       "'I like natural language processing , it is your choice .'"
      ]
     },
     "execution_count": 8,
     "metadata": {},
     "output_type": "execute_result"
    }
   ],
   "source": [
    "text_std(\"I like nlp, it's ur choice.\")"
   ]
  },
  {
   "cell_type": "code",
   "execution_count": null,
   "id": "c57cf882",
   "metadata": {},
   "outputs": [],
   "source": []
  }
 ],
 "metadata": {
  "kernelspec": {
   "display_name": "Python 3 (ipykernel)",
   "language": "python",
   "name": "python3"
  },
  "language_info": {
   "codemirror_mode": {
    "name": "ipython",
    "version": 3
   },
   "file_extension": ".py",
   "mimetype": "text/x-python",
   "name": "python",
   "nbconvert_exporter": "python",
   "pygments_lexer": "ipython3",
   "version": "3.9.12"
  }
 },
 "nbformat": 4,
 "nbformat_minor": 5
}
