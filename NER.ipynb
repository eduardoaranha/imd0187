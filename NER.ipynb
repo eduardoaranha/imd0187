{
 "cells": [
  {
   "cell_type": "code",
   "execution_count": 4,
   "id": "9b6540cb",
   "metadata": {},
   "outputs": [],
   "source": [
    "text = '''Trata-se de agravo interno interposto por ADELMO JOSÉ MARTINS VIEIRA contra decisão de\n",
    "minha lavra (fls. 433/443), integrada pelo decisum de fls. 457/460, a qual negou\n",
    "provimento ao seu recurso especial. \n",
    "\n",
    "Em São Paulo, no dia 2 de outubro de 2020, ocorreu um acidente na av. Brasil, rua do Tribunal de Justiça do RN. \n",
    "Para reportar acidentes, ligue (84) 3232-3232 teste@gmail.com'''"
   ]
  },
  {
   "cell_type": "code",
   "execution_count": 2,
   "id": "5b369663",
   "metadata": {},
   "outputs": [],
   "source": [
    "import spacy\n",
    "from spacy.pipeline import EntityRuler \n",
    "nlp = spacy.load(\"pt_core_news_sm\")"
   ]
  },
  {
   "cell_type": "code",
   "execution_count": 3,
   "id": "ab20efcf",
   "metadata": {},
   "outputs": [
    {
     "data": {
      "text/plain": [
       "[('tagger', <spacy.pipeline.pipes.Tagger at 0x208cae46d90>),\n",
       " ('parser', <spacy.pipeline.pipes.DependencyParser at 0x208caa96fa0>),\n",
       " ('ner', <spacy.pipeline.pipes.EntityRecognizer at 0x208caa96e80>)]"
      ]
     },
     "execution_count": 3,
     "metadata": {},
     "output_type": "execute_result"
    }
   ],
   "source": [
    "nlp.pipeline"
   ]
  },
  {
   "cell_type": "code",
   "execution_count": 5,
   "id": "8e87286c",
   "metadata": {},
   "outputs": [],
   "source": [
    "doc = nlp(text)"
   ]
  },
  {
   "cell_type": "code",
   "execution_count": 6,
   "id": "882a0bfd",
   "metadata": {},
   "outputs": [
    {
     "name": "stdout",
     "output_type": "stream",
     "text": [
      "Trata-se\n",
      "de\n",
      "agravo\n",
      "interno\n",
      "interposto\n",
      "por\n",
      "ADELMO\n",
      "    -  obl:agent\n",
      "    -  MISC\n",
      "    -  Miscellaneous entities, e.g. events, nationalities, products or works of art\n",
      "JOSÉ\n",
      "    -  flat:name\n",
      "    -  MISC\n",
      "    -  Miscellaneous entities, e.g. events, nationalities, products or works of art\n",
      "MARTINS\n",
      "    -  flat:name\n",
      "    -  MISC\n",
      "    -  Miscellaneous entities, e.g. events, nationalities, products or works of art\n",
      "VIEIRA\n",
      "contra\n",
      "decisão\n",
      "de\n",
      "\n",
      "\n",
      "minha\n",
      "lavra\n",
      "(\n",
      "fls\n",
      ".\n",
      "433/443\n",
      ")\n",
      ",\n",
      "integrada\n",
      "pelo\n",
      "decisum\n",
      "de\n",
      "fls\n",
      ".\n",
      "457/460\n",
      ",\n",
      "a\n",
      "qual\n",
      "negou\n",
      "\n",
      "\n",
      "provimento\n",
      "ao\n",
      "seu\n",
      "recurso\n",
      "especial\n",
      ".\n",
      "\n",
      "\n",
      "\n",
      "Em\n",
      "São\n",
      "    -  obl\n",
      "    -  LOC\n",
      "    -  Non-GPE locations, mountain ranges, bodies of water\n",
      "Paulo\n",
      "    -  flat:name\n",
      "    -  LOC\n",
      "    -  Non-GPE locations, mountain ranges, bodies of water\n",
      ",\n",
      "no\n",
      "dia\n",
      "2\n",
      "de\n",
      "outubro\n",
      "de\n",
      "2020\n",
      ",\n",
      "ocorreu\n",
      "um\n",
      "acidente\n",
      "na\n",
      "av.\n",
      "Brasil\n",
      "    -  flat:name\n",
      "    -  LOC\n",
      "    -  Non-GPE locations, mountain ranges, bodies of water\n",
      ",\n",
      "rua\n",
      "do\n",
      "Tribunal\n",
      "    -  nmod\n",
      "    -  ORG\n",
      "    -  Companies, agencies, institutions, etc.\n",
      "de\n",
      "    -  case\n",
      "    -  ORG\n",
      "    -  Companies, agencies, institutions, etc.\n",
      "Justiça\n",
      "    -  nmod\n",
      "    -  ORG\n",
      "    -  Companies, agencies, institutions, etc.\n",
      "do\n",
      "    -  case\n",
      "    -  ORG\n",
      "    -  Companies, agencies, institutions, etc.\n",
      "RN\n",
      "    -  nmod\n",
      "    -  ORG\n",
      "    -  Companies, agencies, institutions, etc.\n",
      ".\n",
      "\n",
      "\n",
      "Para\n",
      "reportar\n",
      "acidentes\n",
      ",\n",
      "ligue\n",
      "(\n",
      "84\n",
      ")\n",
      "3232-3232\n",
      "teste@gmail.com\n",
      "    -  obj\n",
      "    -  MISC\n",
      "    -  Miscellaneous entities, e.g. events, nationalities, products or works of art\n"
     ]
    }
   ],
   "source": [
    "for token in doc:\n",
    "    print(token.text)\n",
    "    ind = '    - '\n",
    "    if (spacy.explain(token.ent_type_) != None):\n",
    "        print(ind, token.dep_)\n",
    "        print(ind, token.ent_type_)\n",
    "        print(ind, spacy.explain(token.ent_type_))\n"
   ]
  },
  {
   "cell_type": "code",
   "execution_count": 7,
   "id": "5d8cb5d8",
   "metadata": {},
   "outputs": [
    {
     "name": "stdout",
     "output_type": "stream",
     "text": [
      "[(ADELMO JOSÉ MARTINS, 'MISC'), (São Paulo, 'LOC'), (Brasil, 'LOC'), (Tribunal de Justiça do RN, 'ORG'), (teste@gmail.com, 'MISC')]\n"
     ]
    }
   ],
   "source": [
    "print([(ent, ent.label_) for ent in doc.ents])"
   ]
  },
  {
   "cell_type": "code",
   "execution_count": null,
   "id": "8930c88c",
   "metadata": {},
   "outputs": [],
   "source": []
  }
 ],
 "metadata": {
  "kernelspec": {
   "display_name": "Python 3 (ipykernel)",
   "language": "python",
   "name": "python3"
  },
  "language_info": {
   "codemirror_mode": {
    "name": "ipython",
    "version": 3
   },
   "file_extension": ".py",
   "mimetype": "text/x-python",
   "name": "python",
   "nbconvert_exporter": "python",
   "pygments_lexer": "ipython3",
   "version": "3.9.12"
  }
 },
 "nbformat": 4,
 "nbformat_minor": 5
}
