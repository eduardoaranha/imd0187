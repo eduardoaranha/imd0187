{
 "cells": [
  {
   "cell_type": "code",
   "execution_count": 1,
   "id": "626b31d9",
   "metadata": {},
   "outputs": [],
   "source": [
    "texts = [[u'football', u'club', u'arsenal', u'defeat', u'local', u'rival', u'weekend'], [u'weekend', u'football', u'frenzy', u'take', u'london'],\n",
    "[u'bank', u'open', u'bid', u'lose', u'million'],\n",
    "[u'london', u'football', u'club', u'bid', u'wembley', u'stadium'],\n",
    "[u'arsenal', u'bid', u'pound', u'striker', u'kane'],\n",
    "[u'financial', u'trouble', u'result', u'loss', u'million', u'bank'],\n",
    "[u'western', u'bank', u'file', u'bankruptcy', u'financial', u'loss'],\n",
    "[u'london', u'football', u'club', u'take', u'oil', u'millionaire', u'russia'],\n",
    "[u'bank', u'finance', u'work', u'russia']]\n"
   ]
  },
  {
   "cell_type": "code",
   "execution_count": 2,
   "id": "3007c956",
   "metadata": {},
   "outputs": [
    {
     "name": "stdout",
     "output_type": "stream",
     "text": [
      "{'arsenal': 0, 'club': 1, 'defeat': 2, 'football': 3, 'local': 4, 'rival': 5, 'weekend': 6, 'frenzy': 7, 'london': 8, 'take': 9, 'bank': 10, 'bid': 11, 'lose': 12, 'million': 13, 'open': 14, 'stadium': 15, 'wembley': 16, 'kane': 17, 'pound': 18, 'striker': 19, 'financial': 20, 'loss': 21, 'result': 22, 'trouble': 23, 'bankruptcy': 24, 'file': 25, 'western': 26, 'millionaire': 27, 'oil': 28, 'russia': 29, 'finance': 30, 'work': 31}\n"
     ]
    }
   ],
   "source": [
    "from gensim import corpora\n",
    "dictionary = corpora.Dictionary(texts)\n",
    "print(dictionary.token2id)\n"
   ]
  },
  {
   "cell_type": "code",
   "execution_count": 5,
   "id": "cf46218c",
   "metadata": {},
   "outputs": [
    {
     "name": "stdout",
     "output_type": "stream",
     "text": [
      "Resumo:\n",
      "Dictionary(32 unique tokens: ['arsenal', 'bank', 'bankruptcy', 'bid', 'club']...)\n",
      "Dicionário:\n",
      "{'arsenal': 0, 'bank': 10, 'bankruptcy': 24, 'bid': 11, 'club': 1, 'defeat': 2, 'file': 25, 'finance': 30, 'financial': 20, 'football': 3, 'frenzy': 7, 'kane': 17, 'local': 4, 'london': 8, 'lose': 12, 'loss': 21, 'million': 13, 'millionaire': 27, 'oil': 28, 'open': 14, 'pound': 18, 'result': 22, 'rival': 5, 'russia': 29, 'stadium': 15, 'striker': 19, 'take': 9, 'trouble': 23, 'weekend': 6, 'wembley': 16, 'western': 26, 'work': 31}\n",
      "document frequencies:\n",
      "{0: 2, 10: 4, 24: 1, 11: 3, 1: 3, 2: 1, 25: 1, 30: 1, 20: 2, 3: 4, 7: 1, 17: 1, 4: 1, 8: 3, 12: 1, 21: 2, 13: 2, 27: 1, 28: 1, 14: 1, 18: 1, 22: 1, 5: 1, 29: 2, 15: 1, 19: 1, 9: 2, 23: 1, 6: 2, 16: 1, 26: 1, 31: 1}\n"
     ]
    }
   ],
   "source": [
    "dictionary.save_as_text(\"dic.txt\")\n",
    "dictionary = corpora.Dictionary.load_from_text(\"dic.txt\")\n",
    "print(\"Resumo:\")\n",
    "print(dictionary)\n",
    "print(\"Dicionário:\")\n",
    "print(dictionary.token2id)\n",
    "print(\"document frequencies:\")\n",
    "print(dictionary.dfs)\n"
   ]
  },
  {
   "cell_type": "code",
   "execution_count": 7,
   "id": "0355363c",
   "metadata": {},
   "outputs": [
    {
     "data": {
      "text/plain": [
       "[[(0, 1), (1, 1), (2, 1), (3, 1), (4, 1), (5, 1), (6, 1)],\n",
       " [(3, 1), (6, 1), (7, 1), (8, 1), (9, 1)],\n",
       " [(10, 1), (11, 1), (12, 1), (13, 1), (14, 1)],\n",
       " [(1, 1), (3, 1), (8, 1), (11, 1), (15, 1), (16, 1)],\n",
       " [(0, 1), (11, 1), (17, 1), (18, 1), (19, 1)],\n",
       " [(10, 1), (13, 1), (20, 1), (21, 1), (22, 1), (23, 1)],\n",
       " [(10, 1), (20, 1), (21, 1), (24, 1), (25, 1), (26, 1)],\n",
       " [(1, 1), (3, 1), (8, 1), (9, 1), (27, 1), (28, 1), (29, 1)],\n",
       " [(10, 1), (29, 1), (30, 1), (31, 1)]]"
      ]
     },
     "execution_count": 7,
     "metadata": {},
     "output_type": "execute_result"
    }
   ],
   "source": [
    "corpus = [dictionary.doc2bow(text) for text in texts]\n",
    "corpus"
   ]
  },
  {
   "cell_type": "code",
   "execution_count": 8,
   "id": "cf3b63d9",
   "metadata": {},
   "outputs": [],
   "source": [
    "#armazena corpus\n",
    "corpora.MmCorpus.serialize('corpus.mm', corpus)\n",
    "corpus = corpora.MmCorpus('corpus.mm')\n",
    "\n",
    "corpora.SvmLightCorpus.serialize('corpus.svmlight', corpus)\n",
    "corpora.BleiCorpus.serialize('corpus.lda-c', corpus)\n",
    "corpora.LowCorpus.serialize('corpus.low', corpus)\n"
   ]
  },
  {
   "cell_type": "code",
   "execution_count": 9,
   "id": "2a64a7f8",
   "metadata": {},
   "outputs": [
    {
     "name": "stdout",
     "output_type": "stream",
     "text": [
      "Verificando se algum token é desconhecido\n",
      "Pode usar parâmetro allow_update=True\n",
      "[(0, 1), (1, 1)]\n",
      "{'social': 1}\n"
     ]
    }
   ],
   "source": [
    "print(\"Verificando se algum token é desconhecido\")\n",
    "print(\"Pode usar parâmetro allow_update=True\")\n",
    "doc_bow, missing_tokens = dictionary.doc2bow([\"arsenal\", \"social\", \"club\"], return_missing=True)\n",
    "print(doc_bow)\n",
    "print(missing_tokens)"
   ]
  },
  {
   "cell_type": "markdown",
   "id": "4ec19dd0",
   "metadata": {},
   "source": [
    "### TF-IDF"
   ]
  },
  {
   "cell_type": "code",
   "execution_count": 11,
   "id": "a3682046",
   "metadata": {},
   "outputs": [
    {
     "name": "stdout",
     "output_type": "stream",
     "text": [
      "[(0, 0.3292179861221233), (1, 0.24046829370585296), (2, 0.4809365874117059), (3, 0.1774993848325406), (4, 0.4809365874117059), (5, 0.4809365874117059), (6, 0.3292179861221233)]\n",
      "[(3, 0.24212967666975266), (6, 0.4490913847888623), (7, 0.6560530929079719), (8, 0.32802654645398593), (9, 0.4490913847888623)]\n",
      "[(10, 0.2184344336379748), (11, 0.29592528218102643), (12, 0.5918505643620529), (13, 0.4051424990000138), (14, 0.5918505643620529)]\n",
      "[(1, 0.29431054749542984), (3, 0.21724253258131512), (8, 0.29431054749542984), (11, 0.29431054749542984), (15, 0.5886210949908597), (16, 0.5886210949908597)]\n",
      "[(0, 0.354982288765831), (11, 0.25928712547209604), (17, 0.5185742509441921), (18, 0.5185742509441921), (19, 0.5185742509441921)]\n",
      "[(10, 0.19610384738673725), (13, 0.3637247180792822), (20, 0.3637247180792822), (21, 0.3637247180792822), (22, 0.5313455887718271), (23, 0.5313455887718271)]\n",
      "[(10, 0.18286519950508276), (20, 0.3391702611796705), (21, 0.3391702611796705), (24, 0.4954753228542582), (25, 0.4954753228542582), (26, 0.4954753228542582)]\n",
      "[(1, 0.2645025265769199), (3, 0.1952400253294319), (8, 0.2645025265769199), (9, 0.3621225392416359), (27, 0.5290050531538398), (28, 0.5290050531538398), (29, 0.3621225392416359)]\n",
      "[(10, 0.22867660961662029), (29, 0.4241392327204109), (30, 0.6196018558242014), (31, 0.6196018558242014)]\n"
     ]
    }
   ],
   "source": [
    "from gensim import models\n",
    "tfidf = models.TfidfModel(corpus)\n",
    "for document in tfidf[corpus]:\n",
    "    print(document)\n"
   ]
  },
  {
   "cell_type": "code",
   "execution_count": null,
   "id": "7e94280d",
   "metadata": {},
   "outputs": [],
   "source": []
  }
 ],
 "metadata": {
  "kernelspec": {
   "display_name": "Python 3 (ipykernel)",
   "language": "python",
   "name": "python3"
  },
  "language_info": {
   "codemirror_mode": {
    "name": "ipython",
    "version": 3
   },
   "file_extension": ".py",
   "mimetype": "text/x-python",
   "name": "python",
   "nbconvert_exporter": "python",
   "pygments_lexer": "ipython3",
   "version": "3.9.12"
  }
 },
 "nbformat": 4,
 "nbformat_minor": 5
}
