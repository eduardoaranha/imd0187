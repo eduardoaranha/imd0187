{
 "cells": [
  {
   "cell_type": "markdown",
   "id": "95538028",
   "metadata": {},
   "source": [
    "# Análise de similaridade\n",
    "Baseado em https://www.learndatasci.com/glossary/cosine-similarity/"
   ]
  },
  {
   "cell_type": "code",
   "execution_count": 1,
   "id": "d3959fb2",
   "metadata": {},
   "outputs": [],
   "source": [
    "from sklearn.metrics.pairwise import cosine_similarity"
   ]
  },
  {
   "cell_type": "code",
   "execution_count": 2,
   "id": "437daad4",
   "metadata": {},
   "outputs": [],
   "source": [
    "corpus = [  'data science is one of the most important fields of science',\n",
    "            'this is one of the best data science courses',\n",
    "            'data scientists analyze data'   ]"
   ]
  },
  {
   "cell_type": "code",
   "execution_count": 5,
   "id": "0fea60aa",
   "metadata": {},
   "outputs": [
    {
     "name": "stdout",
     "output_type": "stream",
     "text": [
      "[[0 0 0 1 1 1 1 1 2 1 2 0 1 0]\n",
      " [0 1 1 1 0 0 1 0 1 1 1 0 1 1]\n",
      " [1 0 0 2 0 0 0 0 0 0 0 1 0 0]]\n"
     ]
    }
   ],
   "source": [
    "from sklearn.feature_extraction.text import CountVectorizer\n",
    "\n",
    "# Create a matrix to represent the corpus\n",
    "corpus_matrix = CountVectorizer().fit_transform(corpus).toarray()\n",
    "\n",
    "print(X)"
   ]
  },
  {
   "cell_type": "code",
   "execution_count": 7,
   "id": "cedaddcd",
   "metadata": {},
   "outputs": [
    {
     "name": "stdout",
     "output_type": "stream",
     "text": [
      "Cosine Similarity between: \n",
      "\tDocument 1 and Document 2:  [[0.68853037]]\n",
      "\tDocument 1 and Document 3:  [[0.21081851]]\n",
      "\tDocument 2 and Document 3:  [[0.27216553]]\n"
     ]
    }
   ],
   "source": [
    "cos_sim_1_2 = cosine_similarity([corpus_matrix[0, :]], [corpus_matrix[1, :]])\n",
    "cos_sim_1_3 = cosine_similarity([corpus_matrix[0, :]], [corpus_matrix[2, :]])\n",
    "cos_sim_2_3 = cosine_similarity([corpus_matrix[1, :]], [corpus_matrix[2, :]])\n",
    "\n",
    "print('Cosine Similarity between: ')\n",
    "print('\\tDocument 1 and Document 2: ', cos_sim_1_2)\n",
    "print('\\tDocument 1 and Document 3: ', cos_sim_1_3)\n",
    "print('\\tDocument 2 and Document 3: ', cos_sim_2_3)"
   ]
  },
  {
   "cell_type": "code",
   "execution_count": null,
   "id": "97b238a2",
   "metadata": {},
   "outputs": [],
   "source": []
  }
 ],
 "metadata": {
  "kernelspec": {
   "display_name": "Python 3 (ipykernel)",
   "language": "python",
   "name": "python3"
  },
  "language_info": {
   "codemirror_mode": {
    "name": "ipython",
    "version": 3
   },
   "file_extension": ".py",
   "mimetype": "text/x-python",
   "name": "python",
   "nbconvert_exporter": "python",
   "pygments_lexer": "ipython3",
   "version": "3.9.12"
  }
 },
 "nbformat": 4,
 "nbformat_minor": 5
}
