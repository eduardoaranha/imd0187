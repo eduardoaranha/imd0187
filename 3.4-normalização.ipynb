{
 "cells": [
  {
   "cell_type": "markdown",
   "id": "9ac3d94e",
   "metadata": {},
   "source": [
    "# Normalização\n",
    "---"
   ]
  },
  {
   "cell_type": "markdown",
   "metadata": {},
   "source": [
    "### Case folding\n",
    "---"
   ]
  },
  {
   "cell_type": "code",
   "execution_count": 2,
   "id": "1e836d3d",
   "metadata": {},
   "outputs": [
    {
     "name": "stdout",
     "output_type": "stream",
     "text": [
      "['house', 'visitor', 'center']\n"
     ]
    }
   ],
   "source": [
    "# Passando tudo para letras minúsculas\n",
    "\n",
    "tokens = ['House', 'Visitor', 'Center']\n",
    "normalized_tokens = [x.lower() for x in tokens]\n",
    "print(normalized_tokens)\n"
   ]
  },
  {
   "cell_type": "markdown",
   "id": "fcfefac0",
   "metadata": {},
   "source": [
    "### Lemmatization\n",
    "---"
   ]
  },
  {
   "cell_type": "code",
   "execution_count": 6,
   "id": "f01c7e4c",
   "metadata": {},
   "outputs": [
    {
     "name": "stderr",
     "output_type": "stream",
     "text": [
      "[nltk_data] Downloading package wordnet to\n",
      "[nltk_data]     C:\\Users\\admin\\AppData\\Roaming\\nltk_data...\n",
      "[nltk_data]   Package wordnet is already up-to-date!\n",
      "[nltk_data] Downloading package omw-1.4 to\n",
      "[nltk_data]     C:\\Users\\admin\\AppData\\Roaming\\nltk_data...\n",
      "[nltk_data]   Unzipping corpora\\omw-1.4.zip.\n"
     ]
    },
    {
     "data": {
      "text/plain": [
       "True"
      ]
     },
     "execution_count": 6,
     "metadata": {},
     "output_type": "execute_result"
    }
   ],
   "source": [
    "from nltk.stem import WordNetLemmatizer \n",
    "import nltk\n",
    "nltk.download('wordnet')\n",
    "nltk.download('omw-1.4')"
   ]
  },
  {
   "cell_type": "code",
   "execution_count": 8,
   "id": "dac24797",
   "metadata": {},
   "outputs": [
    {
     "name": "stdout",
     "output_type": "stream",
     "text": [
      "rocks : rock\n",
      "rochas : rochas\n"
     ]
    }
   ],
   "source": [
    "# Não tem lemmatizer no NLTK para português\n",
    "\n",
    "lemmatizer = WordNetLemmatizer() \n",
    "print(\"rocks :\", lemmatizer.lemmatize(\"rocks\"))\n",
    "print(\"rochas :\", lemmatizer.lemmatize(\"rochas\"))"
   ]
  },
  {
   "cell_type": "code",
   "execution_count": 16,
   "id": "e4f5149e",
   "metadata": {},
   "outputs": [
    {
     "name": "stdout",
     "output_type": "stream",
     "text": [
      "corpora : corpus\n"
     ]
    }
   ],
   "source": [
    "# Plural\n",
    "print(\"corpora :\", lemmatizer.lemmatize(\"corpora\")) "
   ]
  },
  {
   "cell_type": "code",
   "execution_count": 17,
   "id": "1d0c1be2",
   "metadata": {},
   "outputs": [
    {
     "name": "stdout",
     "output_type": "stream",
     "text": [
      "better : good\n"
     ]
    }
   ],
   "source": [
    "# adjetivo\n",
    "print(\"better :\", lemmatizer.lemmatize(\"better\", pos =\"a\")) "
   ]
  },
  {
   "cell_type": "code",
   "execution_count": 19,
   "id": "eb07d7e4",
   "metadata": {},
   "outputs": [],
   "source": [
    "import spacy\n",
    "nlp_pt = spacy.load(\"pt_core_news_sm\")\n"
   ]
  },
  {
   "cell_type": "code",
   "execution_count": 20,
   "id": "c8d9725c",
   "metadata": {},
   "outputs": [],
   "source": [
    "doc = nlp_pt(u'Hoje eu fui ao mercado e lhe encontrei tomando café.')"
   ]
  },
  {
   "cell_type": "code",
   "execution_count": 21,
   "id": "f5051d1b",
   "metadata": {},
   "outputs": [
    {
     "data": {
      "text/plain": [
       "[Hoje, eu, fui, ao, mercado, e, lhe, encontrei, tomando, café, .]"
      ]
     },
     "execution_count": 21,
     "metadata": {},
     "output_type": "execute_result"
    }
   ],
   "source": [
    "[token for token in doc]"
   ]
  },
  {
   "cell_type": "code",
   "execution_count": 23,
   "id": "fa6befb2",
   "metadata": {},
   "outputs": [
    {
     "data": {
      "text/plain": [
       "['Hoje',\n",
       " 'eu',\n",
       " 'ser',\n",
       " 'ao',\n",
       " 'mercar',\n",
       " 'e',\n",
       " 'lhe',\n",
       " 'encontrar',\n",
       " 'tomar',\n",
       " 'café',\n",
       " '.']"
      ]
     },
     "execution_count": 23,
     "metadata": {},
     "output_type": "execute_result"
    }
   ],
   "source": [
    "tokens = [token.lemma_ for token in doc]\n",
    "tokens"
   ]
  },
  {
   "cell_type": "code",
   "execution_count": 24,
   "id": "e1435d46",
   "metadata": {},
   "outputs": [
    {
     "data": {
      "text/plain": [
       "' Hoje eu ser ao mercar e lhe encontrar tomar café .'"
      ]
     },
     "execution_count": 24,
     "metadata": {},
     "output_type": "execute_result"
    }
   ],
   "source": [
    "result = ''\n",
    "for word in tokens:\n",
    "       result = result + ' ' + word\n",
    "result\n"
   ]
  },
  {
   "cell_type": "markdown",
   "id": "35a3a916",
   "metadata": {},
   "source": [
    "### Stemming\n",
    "---"
   ]
  },
  {
   "cell_type": "code",
   "execution_count": 26,
   "id": "8c3d5065",
   "metadata": {},
   "outputs": [
    {
     "name": "stderr",
     "output_type": "stream",
     "text": [
      "[nltk_data] Downloading package rslp to\n",
      "[nltk_data]     C:\\Users\\admin\\AppData\\Roaming\\nltk_data...\n",
      "[nltk_data]   Unzipping stemmers\\rslp.zip.\n"
     ]
    },
    {
     "data": {
      "text/plain": [
       "True"
      ]
     },
     "execution_count": 26,
     "metadata": {},
     "output_type": "execute_result"
    }
   ],
   "source": [
    "import nltk\n",
    "nltk.download('rslp')"
   ]
  },
  {
   "cell_type": "code",
   "execution_count": 27,
   "id": "f157a916",
   "metadata": {},
   "outputs": [
    {
     "name": "stdout",
     "output_type": "stream",
     "text": [
      "copi\n",
      "copi\n",
      "copi\n",
      "copi\n"
     ]
    }
   ],
   "source": [
    "stemmer = nltk.stem.RSLPStemmer()\n",
    "print(stemmer.stem(\"copiar\"))\n",
    "print(stemmer.stem(\"copiando\"))\n",
    "print(stemmer.stem(\"copiarão\"))\n",
    "print(stemmer.stem(\"copiaram\"))                "
   ]
  }
 ],
 "metadata": {
  "kernelspec": {
   "display_name": "Python 3 (ipykernel)",
   "language": "python",
   "name": "python3"
  },
  "language_info": {
   "codemirror_mode": {
    "name": "ipython",
    "version": 3
   },
   "file_extension": ".py",
   "mimetype": "text/x-python",
   "name": "python",
   "nbconvert_exporter": "python",
   "pygments_lexer": "ipython3",
   "version": "3.9.12"
  }
 },
 "nbformat": 4,
 "nbformat_minor": 5
}
