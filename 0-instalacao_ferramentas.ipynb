{
 "cells": [
  {
   "cell_type": "markdown",
   "metadata": {},
   "source": [
    "# INSTALAÇÃO DO NLTK\n",
    "---"
   ]
  },
  {
   "cell_type": "code",
   "execution_count": 1,
   "metadata": {},
   "outputs": [
    {
     "name": "stdout",
     "output_type": "stream",
     "text": [
      "Collecting package metadata (current_repodata.json): ...working... done\n",
      "Note: you may need to restart the kernel to use updated packages.\n"
     ]
    },
    {
     "name": "stderr",
     "output_type": "stream",
     "text": [
      "\n",
      "\n",
      "==> WARNING: A newer version of conda exists. <==\n",
      "  current version: 4.10.3\n",
      "  latest version: 4.12.0\n",
      "\n",
      "Please update conda by running\n",
      "\n",
      "    $ conda update -n base -c defaults conda\n",
      "\n",
      "\n"
     ]
    },
    {
     "name": "stdout",
     "output_type": "stream",
     "text": [
      "\n",
      "Solving environment: ...working... done\n",
      "\n",
      "## Package Plan ##\n",
      "\n",
      "  environment location: C:\\Users\\eduar\\.conda\\envs\\nlp\n",
      "\n",
      "  added / updated specs:\n",
      "    - nltk\n",
      "\n",
      "\n",
      "The following packages will be downloaded:\n",
      "\n",
      "    package                    |            build\n",
      "    ---------------------------|-----------------\n",
      "    ca-certificates-2022.3.29  |       haa95532_1         122 KB\n",
      "    click-8.0.4                |   py39haa95532_0         155 KB\n",
      "    nltk-3.7                   |     pyhd3eb1b0_0        1010 KB\n",
      "    regex-2022.3.15            |   py39h2bbff1b_0         316 KB\n",
      "    tqdm-4.64.0                |   py39haa95532_0         155 KB\n",
      "    ------------------------------------------------------------\n",
      "                                           Total:         1.7 MB\n",
      "\n",
      "The following NEW packages will be INSTALLED:\n",
      "\n",
      "  click              pkgs/main/win-64::click-8.0.4-py39haa95532_0\n",
      "  joblib             pkgs/main/noarch::joblib-1.1.0-pyhd3eb1b0_0\n",
      "  nltk               pkgs/main/noarch::nltk-3.7-pyhd3eb1b0_0\n",
      "  regex              pkgs/main/win-64::regex-2022.3.15-py39h2bbff1b_0\n",
      "  tqdm               pkgs/main/win-64::tqdm-4.64.0-py39haa95532_0\n",
      "\n",
      "The following packages will be UPDATED:\n",
      "\n",
      "  ca-certificates    conda-forge::ca-certificates-2021.10.~ --> pkgs/main::ca-certificates-2022.3.29-haa95532_1\n",
      "\n",
      "The following packages will be SUPERSEDED by a higher-priority channel:\n",
      "\n",
      "  certifi            conda-forge::certifi-2021.10.8-py39hc~ --> pkgs/main::certifi-2021.10.8-py39haa95532_2\n",
      "  openssl            conda-forge::openssl-1.1.1n-h8ffe710_0 --> pkgs/main::openssl-1.1.1n-h2bbff1b_0\n",
      "\n",
      "\n",
      "\n",
      "Downloading and Extracting Packages\n",
      "\n",
      "regex-2022.3.15      | 316 KB    |            |   0% \n",
      "regex-2022.3.15      | 316 KB    | 5          |   5% \n",
      "regex-2022.3.15      | 316 KB    | ########## | 100% \n",
      "regex-2022.3.15      | 316 KB    | ########## | 100% \n",
      "\n",
      "click-8.0.4          | 155 KB    |            |   0% \n",
      "click-8.0.4          | 155 KB    | ########## | 100% \n",
      "click-8.0.4          | 155 KB    | ########## | 100% \n",
      "\n",
      "nltk-3.7             | 1010 KB   |            |   0% \n",
      "nltk-3.7             | 1010 KB   | ###3       |  33% \n",
      "nltk-3.7             | 1010 KB   | ########## | 100% \n",
      "nltk-3.7             | 1010 KB   | ########## | 100% \n",
      "\n",
      "ca-certificates-2022 | 122 KB    |            |   0% \n",
      "ca-certificates-2022 | 122 KB    | ########## | 100% \n",
      "ca-certificates-2022 | 122 KB    | ########## | 100% \n",
      "\n",
      "tqdm-4.64.0          | 155 KB    |            |   0% \n",
      "tqdm-4.64.0          | 155 KB    | ########## | 100% \n",
      "tqdm-4.64.0          | 155 KB    | ########## | 100% \n",
      "Preparing transaction: ...working... done\n",
      "Verifying transaction: ...working... done\n",
      "Executing transaction: ...working... done\n"
     ]
    }
   ],
   "source": [
    "# Instalar nltk\n",
    "%conda install --yes nltk"
   ]
  },
  {
   "cell_type": "markdown",
   "metadata": {},
   "source": [
    "# INSTALAÇÃO DO SPACY\n",
    "---\n",
    "https://spacy.io\n"
   ]
  },
  {
   "cell_type": "code",
   "execution_count": 2,
   "metadata": {},
   "outputs": [
    {
     "name": "stdout",
     "output_type": "stream",
     "text": [
      "Collecting package metadata (current_repodata.json): ...working... done\n",
      "Note: you may need to restart the kernel to use updated packages.\n"
     ]
    },
    {
     "name": "stderr",
     "output_type": "stream",
     "text": [
      "\n",
      "\n",
      "==> WARNING: A newer version of conda exists. <==\n",
      "  current version: 4.10.3\n",
      "  latest version: 4.12.0\n",
      "\n",
      "Please update conda by running\n",
      "\n",
      "    $ conda update -n base -c defaults conda\n",
      "\n",
      "\n"
     ]
    },
    {
     "name": "stdout",
     "output_type": "stream",
     "text": [
      "\n",
      "Solving environment: ...working... done\n",
      "\n",
      "# All requested packages already installed.\n",
      "\n"
     ]
    }
   ],
   "source": [
    "# Instalaar spacy\n",
    "%conda install --yes spacy"
   ]
  },
  {
   "cell_type": "code",
   "execution_count": 4,
   "metadata": {},
   "outputs": [
    {
     "name": "stdout",
     "output_type": "stream",
     "text": [
      "✔ Download and installation successful\n",
      "You can now load the model via spacy.load('pt_core_news_lg')\n"
     ]
    }
   ],
   "source": [
    "# Baixar módulo nltk para português (sm/md/lg)\n",
    "# comando %run equivale a comando python\n",
    "%run -m spacy download pt_core_news_lg \n"
   ]
  },
  {
   "cell_type": "code",
   "execution_count": null,
   "metadata": {},
   "outputs": [
    {
     "name": "stdout",
     "output_type": "stream",
     "text": [
      "✔ Download and installation successful\n",
      "You can now load the model via spacy.load('en_core_web_lg')\n"
     ]
    }
   ],
   "source": [
    "# Baixar módulo spacy para inglês (sm/md/lg/trf)\n",
    "%run -m spacy download en_core_web_lg"
   ]
  },
  {
   "cell_type": "markdown",
   "metadata": {},
   "source": [
    "# INSTALAÇÃO DO SELENIUM\n",
    "---"
   ]
  },
  {
   "cell_type": "code",
   "execution_count": null,
   "metadata": {},
   "outputs": [
    {
     "name": "stdout",
     "output_type": "stream",
     "text": [
      "Collecting package metadata (current_repodata.json): ...working... done\n",
      "Solving environment: ...working... done\n",
      "Note: you may need to restart the kernel to use updated packages.\n"
     ]
    },
    {
     "name": "stderr",
     "output_type": "stream",
     "text": [
      "\n",
      "\n"
     ]
    },
    {
     "name": "stdout",
     "output_type": "stream",
     "text": [
      "\n",
      "\n",
      "# All requested packages already installed.\n",
      "\n"
     ]
    },
    {
     "name": "stderr",
     "output_type": "stream",
     "text": [
      "==> WARNING: A newer version of conda exists. <==\n",
      "  current version: 4.10.3\n",
      "  latest version: 4.12.0\n",
      "\n",
      "Please update conda by running\n",
      "\n",
      "    $ conda update -n base -c defaults conda\n",
      "\n",
      "\n"
     ]
    }
   ],
   "source": [
    "# Instalaar selenium\n",
    "%conda install --yes selenium"
   ]
  },
  {
   "cell_type": "code",
   "execution_count": null,
   "metadata": {},
   "outputs": [
    {
     "name": "stdout",
     "output_type": "stream",
     "text": [
      "Collecting package metadata (current_repodata.json): ...working... done\n",
      "Solving environment: ...working... done\n",
      "Note: you may need to restart the kernel to use updated packages.\n"
     ]
    },
    {
     "name": "stderr",
     "output_type": "stream",
     "text": [
      "\n",
      "\n"
     ]
    },
    {
     "name": "stdout",
     "output_type": "stream",
     "text": [
      "\n",
      "\n",
      "# All requested packages already installed.\n",
      "\n"
     ]
    },
    {
     "name": "stderr",
     "output_type": "stream",
     "text": [
      "==> WARNING: A newer version of conda exists. <==\n",
      "  current version: 4.10.3\n",
      "  latest version: 4.12.0\n",
      "\n",
      "Please update conda by running\n",
      "\n",
      "    $ conda update -n base -c defaults conda\n",
      "\n",
      "\n"
     ]
    }
   ],
   "source": [
    "# Instalaar webdriver-manager para simplificar a instalação do webdriver\n",
    "%conda install --yes -c conda-forge webdriver-manager"
   ]
  },
  {
   "cell_type": "markdown",
   "metadata": {},
   "source": [
    "# INSTALAÇÃO DO TEXTRACT\n",
    "---"
   ]
  },
  {
   "cell_type": "markdown",
   "metadata": {},
   "source": [
    "<p style=\"color:red\"><b>ATENÇÃO:</b> </p>Para executar o tesseract, além de executar o comando a seguir, você precisa instalar o tesseract e colocar o caminho da instalação no PATH do sistema."
   ]
  },
  {
   "cell_type": "code",
   "execution_count": 3,
   "metadata": {},
   "outputs": [
    {
     "name": "stdout",
     "output_type": "stream",
     "text": [
      "Collecting package metadata (current_repodata.json): ...working... done\n",
      "Solving environment: ...working... done\n",
      "\n",
      "## Package Plan ##\n",
      "\n",
      "Note: you may need to restart the kernel to use updated packages.\n",
      "  environment location: C:\\Users\\admin\\.conda\\envs\\pln\n",
      "\n",
      "\n"
     ]
    },
    {
     "name": "stderr",
     "output_type": "stream",
     "text": [
      "ERROR conda.core.link:_execute(730): An error occurred while installing package 'conda-forge::openssl-1.1.1n-h8ffe710_0'.\n",
      "\n",
      "[Errno 13] Permission denied: 'C:\\\\Users\\\\admin\\\\.conda\\\\envs\\\\pln\\\\Library\\\\bin\\\\libcrypto-1_1-x64.dll'\n",
      "()\n",
      "\n"
     ]
    },
    {
     "name": "stdout",
     "output_type": "stream",
     "text": [
      "  added / updated specs:\n",
      "    - pdfminer\n",
      "    - pdftotext\n",
      "    - pytesseract\n",
      "    - textract\n",
      "\n",
      "\n",
      "The following packages will be SUPERSEDED by a higher-priority channel:\n",
      "\n",
      "  ca-certificates    pkgs/main::ca-certificates-2022.3.29-~ --> conda-forge::ca-certificates-2021.10.8-h5b45459_0\n",
      "  certifi            pkgs/main::certifi-2021.10.8-py39haa9~ --> conda-forge::certifi-2021.10.8-py39hcbf5309_2\n",
      "  openssl              pkgs/main::openssl-1.1.1n-h2bbff1b_0 --> conda-forge::openssl-1.1.1n-h8ffe710_0\n",
      "\n",
      "\n",
      "Preparing transaction: ...working... done\n",
      "Verifying transaction: ...working... done\n",
      "Executing transaction: ...working... done\n",
      "Rolling back transaction: ...working... done\n"
     ]
    }
   ],
   "source": [
    "# Instalaar textract e algumas das libs que ele usa\n",
    "%conda install --yes -c conda-forge textract pdftotext pytesseract pdfminer"
   ]
  },
  {
   "cell_type": "markdown",
   "metadata": {},
   "source": [
    "# INSTALAÇÃO DO WordCloud (nuvem de palavras)\n",
    "---"
   ]
  },
  {
   "cell_type": "code",
   "execution_count": 7,
   "metadata": {},
   "outputs": [
    {
     "name": "stdout",
     "output_type": "stream",
     "text": [
      "Collecting package metadata (current_repodata.json): ...working... done\n",
      "Solving environment: ...working... done\n",
      "\n",
      "## Package Plan ##\n",
      "\n",
      "\n",
      "Note: you may need to restart the kernel to use updated packages.\n"
     ]
    },
    {
     "name": "stderr",
     "output_type": "stream",
     "text": [
      "ERROR conda.core.link:_execute(730): An error occurred while installing package 'conda-forge::openssl-1.1.1n-h8ffe710_0'.\n",
      "\n",
      "[Errno 13] Permission denied: 'C:\\\\Users\\\\admin\\\\.conda\\\\envs\\\\pln\\\\Library\\\\bin\\\\libcrypto-1_1-x64.dll'\n",
      "()\n",
      "\n"
     ]
    },
    {
     "name": "stdout",
     "output_type": "stream",
     "text": [
      "  environment location: C:\\Users\\admin\\.conda\\envs\\pln\n",
      "\n",
      "  added / updated specs:\n",
      "    - wordcloud\n",
      "\n",
      "\n",
      "The following NEW packages will be INSTALLED:\n",
      "\n",
      "  brotli             conda-forge/win-64::brotli-1.0.9-h8ffe710_7\n",
      "  brotli-bin         conda-forge/win-64::brotli-bin-1.0.9-h8ffe710_7\n",
      "  cycler             conda-forge/noarch::cycler-0.11.0-pyhd8ed1ab_0\n",
      "  fonttools          conda-forge/win-64::fonttools-4.31.2-py39hb82d6ee_1\n",
      "  kiwisolver         conda-forge/win-64::kiwisolver-1.4.2-py39h2e07f2f_1\n",
      "  libbrotlicommon    conda-forge/win-64::libbrotlicommon-1.0.9-h8ffe710_7\n",
      "  libbrotlidec       conda-forge/win-64::libbrotlidec-1.0.9-h8ffe710_7\n",
      "  libbrotlienc       conda-forge/win-64::libbrotlienc-1.0.9-h8ffe710_7\n",
      "  matplotlib-base    conda-forge/win-64::matplotlib-base-3.5.1-py39h581301d_0\n",
      "  munkres            conda-forge/noarch::munkres-1.1.4-pyh9f0ad1d_0\n",
      "  unicodedata2       conda-forge/win-64::unicodedata2-14.0.0-py39hb82d6ee_1\n",
      "  wordcloud          conda-forge/win-64::wordcloud-1.8.1-py39hb82d6ee_2\n",
      "\n",
      "The following packages will be SUPERSEDED by a higher-priority channel:\n",
      "\n",
      "  ca-certificates    pkgs/main::ca-certificates-2022.3.29-~ --> conda-forge::ca-certificates-2021.10.8-h5b45459_0\n",
      "  certifi            pkgs/main::certifi-2021.10.8-py39haa9~ --> conda-forge::certifi-2021.10.8-py39hcbf5309_2\n",
      "  openssl              pkgs/main::openssl-1.1.1n-h2bbff1b_0 --> conda-forge::openssl-1.1.1n-h8ffe710_0\n",
      "\n",
      "\n",
      "Preparing transaction: ...working... done\n",
      "Verifying transaction: ...working... done\n",
      "Executing transaction: ...working... done\n",
      "Rolling back transaction: ...working... done\n"
     ]
    }
   ],
   "source": [
    "%conda install --yes -c conda-forge wordcloud"
   ]
  },
  {
   "cell_type": "markdown",
   "metadata": {},
   "source": [
    "# Instalação do pandas\n",
    "---"
   ]
  },
  {
   "cell_type": "code",
   "execution_count": 1,
   "metadata": {},
   "outputs": [
    {
     "name": "stdout",
     "output_type": "stream",
     "text": [
      "Collecting package metadata (current_repodata.json): ...working... done\n",
      "Note: you may need to restart the kernel to use updated packages.\n",
      "Solving environment: ...working... done\n",
      "\n",
      "## Package Plan ##\n",
      "\n",
      "\n",
      "  environment location: C:\\Users\\admin\\.conda\\envs\\pln\n",
      "\n",
      "  added / updated specs:\n",
      "    - pandas\n",
      "\n",
      "\n",
      "The following packages will be downloaded:\n",
      "\n",
      "    package                    |            build\n",
      "    ---------------------------|-----------------\n",
      "    bottleneck-1.3.4           |   py39h080aedc_0         109 KB\n",
      "    numexpr-2.8.1              |   py39hb80d3ca_0         117 KB\n",
      "    pandas-1.4.2               |   py39hd77b12b_0         8.7 MB\n",
      "    ------------------------------------------------------------\n",
      "                                           Total:         8.9 MB\n",
      "\n",
      "The following NEW packages will be INSTALLED:\n",
      "\n",
      "  bottleneck         pkgs/main/win-64::bottleneck-1.3.4-py39h080aedc_0\n",
      "  numexpr            pkgs/main/win-64::numexpr-2.8.1-py39hb80d3ca_0\n",
      "  pandas             pkgs/main/win-64::pandas-1.4.2-py39hd77b12b_0\n",
      "  pytz               pkgs/main/noarch::pytz-2021.3-pyhd3eb1b0_0\n",
      "\n",
      "The following packages will be UPDATED:\n",
      "\n",
      "  ca-certificates    conda-forge::ca-certificates-2021.10.~ --> pkgs/main::ca-certificates-2022.3.29-haa95532_1\n",
      "\n",
      "The following packages will be SUPERSEDED by a higher-priority channel:\n",
      "\n",
      "  certifi            conda-forge::certifi-2021.10.8-py39hc~ --> pkgs/main::certifi-2021.10.8-py39haa95532_2\n",
      "  openssl            conda-forge::openssl-1.1.1n-h8ffe710_0 --> pkgs/main::openssl-1.1.1n-h2bbff1b_0\n",
      "\n",
      "\n",
      "\n",
      "Downloading and Extracting Packages\n",
      "\n",
      "pandas-1.4.2         | 8.7 MB    |            |   0% \n",
      "pandas-1.4.2         | 8.7 MB    | 1          |   1% \n",
      "pandas-1.4.2         | 8.7 MB    | 9          |   9% \n",
      "pandas-1.4.2         | 8.7 MB    | #7         |  17% \n",
      "pandas-1.4.2         | 8.7 MB    | ##7        |  28% \n",
      "pandas-1.4.2         | 8.7 MB    | ###5       |  35% \n",
      "pandas-1.4.2         | 8.7 MB    | ####3      |  44% \n",
      "pandas-1.4.2         | 8.7 MB    | #####2     |  53% \n",
      "pandas-1.4.2         | 8.7 MB    | ######2    |  63% \n",
      "pandas-1.4.2         | 8.7 MB    | #######1   |  72% \n",
      "pandas-1.4.2         | 8.7 MB    | ########2  |  82% \n",
      "pandas-1.4.2         | 8.7 MB    | #########1 |  91% \n",
      "pandas-1.4.2         | 8.7 MB    | ########## | 100% \n",
      "\n",
      "numexpr-2.8.1        | 117 KB    |            |   0% \n",
      "numexpr-2.8.1        | 117 KB    | ########## | 100% \n",
      "numexpr-2.8.1        | 117 KB    | ########## | 100% \n",
      "\n",
      "bottleneck-1.3.4     | 109 KB    |            |   0% \n",
      "bottleneck-1.3.4     | 109 KB    | ########## | 100% \n",
      "bottleneck-1.3.4     | 109 KB    | ########## | 100% \n",
      "Preparing transaction: ...working... done\n",
      "Verifying transaction: ...working... done\n",
      "Executing transaction: ...working... done\n"
     ]
    }
   ],
   "source": [
    "%conda install --yes pandas"
   ]
  },
  {
   "cell_type": "markdown",
   "metadata": {},
   "source": [
    "## Instalação do python-Levenshtein"
   ]
  },
  {
   "cell_type": "code",
   "execution_count": 3,
   "metadata": {},
   "outputs": [
    {
     "name": "stdout",
     "output_type": "stream",
     "text": [
      "Collecting package metadata (current_repodata.json): ...working... done\n",
      "Note: you may need to restart the kernel to use updated packages.\n",
      "\n",
      "Solving environment: ...working... done\n",
      "\n",
      "# All requested packages already installed.\n",
      "\n"
     ]
    }
   ],
   "source": [
    "%conda install --yes python-levenshtein"
   ]
  },
  {
   "cell_type": "markdown",
   "metadata": {},
   "source": [
    "### Requerido para gerar gráfico do POS tagging no nltk"
   ]
  },
  {
   "cell_type": "code",
   "execution_count": null,
   "metadata": {},
   "outputs": [],
   "source": [
    "%pip install svgling"
   ]
  },
  {
   "cell_type": "markdown",
   "metadata": {},
   "source": [
    "### Requerido para NER, POS tagging e outros modelos que usem transformers"
   ]
  },
  {
   "cell_type": "code",
   "execution_count": 2,
   "metadata": {},
   "outputs": [
    {
     "name": "stdout",
     "output_type": "stream",
     "text": [
      "Collecting package metadata (current_repodata.json): ...working... done\n",
      "Note: you may need to restart the kernel to use updated packages.\n",
      "\n",
      "Solving environment: ...working... done\n",
      "\n",
      "## Package Plan ##\n",
      "\n",
      "  environment location: C:\\Users\\admin\\.conda\\envs\\pln\n",
      "\n",
      "  added / updated specs:\n",
      "    - transformers\n",
      "\n",
      "\n",
      "The following packages will be downloaded:\n",
      "\n",
      "    package                    |            build\n",
      "    ---------------------------|-----------------\n",
      "    filelock-3.6.0             |     pyhd8ed1ab_0          12 KB  conda-forge\n",
      "    future-0.18.2              |   py39hcbf5309_5         742 KB  conda-forge\n",
      "    huggingface_hub-0.5.1      |     pyhd8ed1ab_0          60 KB  conda-forge\n",
      "    libuv-1.43.0               |       h8ffe710_0         365 KB  conda-forge\n",
      "    ninja-1.10.2               |       h2d74725_1         273 KB  conda-forge\n",
      "    pytorch-1.10.2             |cpu_py39h907fbb5_0       115.2 MB\n",
      "    pyyaml-6.0                 |   py39hb82d6ee_4         154 KB  conda-forge\n",
      "    sacremoses-0.0.53          |     pyhd8ed1ab_0         427 KB  conda-forge\n",
      "    tokenizers-0.12.1          |   py39h8c9392a_0         3.0 MB  conda-forge\n",
      "    transformers-4.18.0        |   py39haa95532_0         2.9 MB\n",
      "    yaml-0.2.5                 |       h8ffe710_2          62 KB  conda-forge\n",
      "    ------------------------------------------------------------\n",
      "                                           Total:       123.1 MB\n",
      "\n",
      "The following NEW packages will be INSTALLED:\n",
      "\n",
      "  filelock           conda-forge/noarch::filelock-3.6.0-pyhd8ed1ab_0\n",
      "  future             conda-forge/win-64::future-0.18.2-py39hcbf5309_5\n",
      "  huggingface_hub    conda-forge/noarch::huggingface_hub-0.5.1-pyhd8ed1ab_0\n",
      "  libuv              conda-forge/win-64::libuv-1.43.0-h8ffe710_0\n",
      "  ninja              conda-forge/win-64::ninja-1.10.2-h2d74725_1\n",
      "  pytorch            pkgs/main/win-64::pytorch-1.10.2-cpu_py39h907fbb5_0\n",
      "  pyyaml             conda-forge/win-64::pyyaml-6.0-py39hb82d6ee_4\n",
      "  sacremoses         conda-forge/noarch::sacremoses-0.0.53-pyhd8ed1ab_0\n",
      "  tokenizers         conda-forge/win-64::tokenizers-0.12.1-py39h8c9392a_0\n",
      "  transformers       pkgs/main/win-64::transformers-4.18.0-py39haa95532_0\n",
      "  yaml               conda-forge/win-64::yaml-0.2.5-h8ffe710_2\n",
      "\n",
      "\n",
      "\n",
      "Downloading and Extracting Packages\n",
      "\n",
      "future-0.18.2        | 742 KB    |            |   0% \n",
      "future-0.18.2        | 742 KB    | 2          |   2% \n",
      "future-0.18.2        | 742 KB    | ########## | 100% \n",
      "future-0.18.2        | 742 KB    | ########## | 100% \n",
      "\n",
      "sacremoses-0.0.53    | 427 KB    |            |   0% \n",
      "sacremoses-0.0.53    | 427 KB    | 3          |   4% \n",
      "sacremoses-0.0.53    | 427 KB    | ########## | 100% \n",
      "sacremoses-0.0.53    | 427 KB    | ########## | 100% \n",
      "\n",
      "transformers-4.18.0  | 2.9 MB    |            |   0% \n",
      "transformers-4.18.0  | 2.9 MB    |            |   1% \n",
      "transformers-4.18.0  | 2.9 MB    | ##5        |  25% \n",
      "transformers-4.18.0  | 2.9 MB    | #####5     |  56% \n",
      "transformers-4.18.0  | 2.9 MB    | #######8   |  78% \n",
      "transformers-4.18.0  | 2.9 MB    | ########## | 100% \n",
      "transformers-4.18.0  | 2.9 MB    | ########## | 100% \n",
      "\n",
      "tokenizers-0.12.1    | 3.0 MB    |            |   0% \n",
      "tokenizers-0.12.1    | 3.0 MB    |            |   1% \n",
      "tokenizers-0.12.1    | 3.0 MB    | ##4        |  25% \n",
      "tokenizers-0.12.1    | 3.0 MB    | ###9       |  39% \n",
      "tokenizers-0.12.1    | 3.0 MB    | #####1     |  52% \n",
      "tokenizers-0.12.1    | 3.0 MB    | #######1   |  72% \n",
      "tokenizers-0.12.1    | 3.0 MB    | ########8  |  89% \n",
      "tokenizers-0.12.1    | 3.0 MB    | ########## | 100% \n",
      "\n",
      "ninja-1.10.2         | 273 KB    |            |   0% \n",
      "ninja-1.10.2         | 273 KB    | 5          |   6% \n",
      "ninja-1.10.2         | 273 KB    | ########## | 100% \n",
      "ninja-1.10.2         | 273 KB    | ########## | 100% \n",
      "\n",
      "libuv-1.43.0         | 365 KB    |            |   0% \n",
      "libuv-1.43.0         | 365 KB    | ##1        |  22% \n",
      "libuv-1.43.0         | 365 KB    | ########## | 100% \n",
      "libuv-1.43.0         | 365 KB    | ########## | 100% \n",
      "\n",
      "yaml-0.2.5           | 62 KB     |            |   0% \n",
      "yaml-0.2.5           | 62 KB     | ########## | 100% \n",
      "yaml-0.2.5           | 62 KB     | ########## | 100% \n",
      "\n",
      "huggingface_hub-0.5. | 60 KB     |            |   0% \n",
      "huggingface_hub-0.5. | 60 KB     | ##6        |  27% \n",
      "huggingface_hub-0.5. | 60 KB     | ########## | 100% \n",
      "huggingface_hub-0.5. | 60 KB     | ########## | 100% \n",
      "\n",
      "filelock-3.6.0       | 12 KB     |            |   0% \n",
      "filelock-3.6.0       | 12 KB     | ########## | 100% \n",
      "filelock-3.6.0       | 12 KB     | ########## | 100% \n",
      "\n",
      "pytorch-1.10.2       | 115.2 MB  |            |   0% \n",
      "pytorch-1.10.2       | 115.2 MB  |            |   0% \n",
      "pytorch-1.10.2       | 115.2 MB  | 1          |   1% \n",
      "pytorch-1.10.2       | 115.2 MB  | 2          |   2% \n",
      "pytorch-1.10.2       | 115.2 MB  | 3          |   3% \n",
      "pytorch-1.10.2       | 115.2 MB  | 3          |   4% \n",
      "pytorch-1.10.2       | 115.2 MB  | 4          |   5% \n",
      "pytorch-1.10.2       | 115.2 MB  | 5          |   5% \n",
      "pytorch-1.10.2       | 115.2 MB  | 6          |   6% \n",
      "pytorch-1.10.2       | 115.2 MB  | 6          |   7% \n",
      "pytorch-1.10.2       | 115.2 MB  | 7          |   8% \n",
      "pytorch-1.10.2       | 115.2 MB  | 8          |   8% \n",
      "pytorch-1.10.2       | 115.2 MB  | 9          |   9% \n",
      "pytorch-1.10.2       | 115.2 MB  | 9          |  10% \n",
      "pytorch-1.10.2       | 115.2 MB  | #          |  11% \n",
      "pytorch-1.10.2       | 115.2 MB  | #1         |  12% \n",
      "pytorch-1.10.2       | 115.2 MB  | #2         |  13% \n",
      "pytorch-1.10.2       | 115.2 MB  | #3         |  13% \n",
      "pytorch-1.10.2       | 115.2 MB  | #4         |  14% \n",
      "pytorch-1.10.2       | 115.2 MB  | #4         |  15% \n",
      "pytorch-1.10.2       | 115.2 MB  | #5         |  16% \n",
      "pytorch-1.10.2       | 115.2 MB  | #6         |  17% \n",
      "pytorch-1.10.2       | 115.2 MB  | #7         |  17% \n",
      "pytorch-1.10.2       | 115.2 MB  | #8         |  18% \n",
      "pytorch-1.10.2       | 115.2 MB  | #9         |  19% \n",
      "pytorch-1.10.2       | 115.2 MB  | ##         |  20% \n",
      "pytorch-1.10.2       | 115.2 MB  | ##1        |  21% \n",
      "pytorch-1.10.2       | 115.2 MB  | ##1        |  22% \n",
      "pytorch-1.10.2       | 115.2 MB  | ##2        |  23% \n",
      "pytorch-1.10.2       | 115.2 MB  | ##3        |  24% \n",
      "pytorch-1.10.2       | 115.2 MB  | ##4        |  25% \n",
      "pytorch-1.10.2       | 115.2 MB  | ##5        |  25% \n",
      "pytorch-1.10.2       | 115.2 MB  | ##6        |  26% \n",
      "pytorch-1.10.2       | 115.2 MB  | ##7        |  27% \n",
      "pytorch-1.10.2       | 115.2 MB  | ##7        |  28% \n",
      "pytorch-1.10.2       | 115.2 MB  | ##8        |  29% \n",
      "pytorch-1.10.2       | 115.2 MB  | ##9        |  29% \n",
      "pytorch-1.10.2       | 115.2 MB  | ###        |  30% \n",
      "pytorch-1.10.2       | 115.2 MB  | ###        |  31% \n",
      "pytorch-1.10.2       | 115.2 MB  | ###1       |  32% \n",
      "pytorch-1.10.2       | 115.2 MB  | ###2       |  32% \n",
      "pytorch-1.10.2       | 115.2 MB  | ###2       |  33% \n",
      "pytorch-1.10.2       | 115.2 MB  | ###3       |  34% \n",
      "pytorch-1.10.2       | 115.2 MB  | ###4       |  35% \n",
      "pytorch-1.10.2       | 115.2 MB  | ###5       |  35% \n",
      "pytorch-1.10.2       | 115.2 MB  | ###6       |  36% \n",
      "pytorch-1.10.2       | 115.2 MB  | ###7       |  37% \n",
      "pytorch-1.10.2       | 115.2 MB  | ###7       |  38% \n",
      "pytorch-1.10.2       | 115.2 MB  | ###8       |  39% \n",
      "pytorch-1.10.2       | 115.2 MB  | ###9       |  40% \n",
      "pytorch-1.10.2       | 115.2 MB  | ####       |  41% \n",
      "pytorch-1.10.2       | 115.2 MB  | ####1      |  41% \n",
      "pytorch-1.10.2       | 115.2 MB  | ####2      |  42% \n",
      "pytorch-1.10.2       | 115.2 MB  | ####2      |  43% \n",
      "pytorch-1.10.2       | 115.2 MB  | ####3      |  44% \n",
      "pytorch-1.10.2       | 115.2 MB  | ####4      |  45% \n",
      "pytorch-1.10.2       | 115.2 MB  | ####5      |  46% \n",
      "pytorch-1.10.2       | 115.2 MB  | ####6      |  46% \n",
      "pytorch-1.10.2       | 115.2 MB  | ####7      |  47% \n",
      "pytorch-1.10.2       | 115.2 MB  | ####7      |  48% \n",
      "pytorch-1.10.2       | 115.2 MB  | ####8      |  49% \n",
      "pytorch-1.10.2       | 115.2 MB  | ####9      |  50% \n",
      "pytorch-1.10.2       | 115.2 MB  | #####      |  50% \n",
      "pytorch-1.10.2       | 115.2 MB  | #####1     |  51% \n",
      "pytorch-1.10.2       | 115.2 MB  | #####2     |  52% \n",
      "pytorch-1.10.2       | 115.2 MB  | #####3     |  53% \n",
      "pytorch-1.10.2       | 115.2 MB  | #####4     |  54% \n",
      "pytorch-1.10.2       | 115.2 MB  | #####4     |  55% \n",
      "pytorch-1.10.2       | 115.2 MB  | #####5     |  56% \n",
      "pytorch-1.10.2       | 115.2 MB  | #####6     |  57% \n"
     ]
    },
    {
     "name": "stdout",
     "output_type": "stream",
     "text": [
      "pytorch-1.10.2       | 115.2 MB  | #####7     |  57% \n",
      "pytorch-1.10.2       | 115.2 MB  | #####8     |  58% \n",
      "pytorch-1.10.2       | 115.2 MB  | #####9     |  59% \n",
      "pytorch-1.10.2       | 115.2 MB  | #####9     |  60% \n",
      "pytorch-1.10.2       | 115.2 MB  | ######     |  61% \n",
      "pytorch-1.10.2       | 115.2 MB  | ######1    |  62% \n",
      "pytorch-1.10.2       | 115.2 MB  | ######2    |  62% \n",
      "pytorch-1.10.2       | 115.2 MB  | ######3    |  63% \n",
      "pytorch-1.10.2       | 115.2 MB  | ######4    |  64% \n",
      "pytorch-1.10.2       | 115.2 MB  | ######4    |  65% \n",
      "pytorch-1.10.2       | 115.2 MB  | ######5    |  66% \n",
      "pytorch-1.10.2       | 115.2 MB  | ######6    |  67% \n",
      "pytorch-1.10.2       | 115.2 MB  | ######7    |  68% \n",
      "pytorch-1.10.2       | 115.2 MB  | ######8    |  69% \n",
      "pytorch-1.10.2       | 115.2 MB  | ######9    |  69% \n",
      "pytorch-1.10.2       | 115.2 MB  | #######    |  70% \n",
      "pytorch-1.10.2       | 115.2 MB  | #######1   |  71% \n",
      "pytorch-1.10.2       | 115.2 MB  | #######2   |  72% \n",
      "pytorch-1.10.2       | 115.2 MB  | #######2   |  73% \n",
      "pytorch-1.10.2       | 115.2 MB  | #######3   |  74% \n",
      "pytorch-1.10.2       | 115.2 MB  | #######4   |  75% \n",
      "pytorch-1.10.2       | 115.2 MB  | #######5   |  75% \n",
      "pytorch-1.10.2       | 115.2 MB  | #######6   |  76% \n",
      "pytorch-1.10.2       | 115.2 MB  | #######7   |  77% \n",
      "pytorch-1.10.2       | 115.2 MB  | #######7   |  78% \n",
      "pytorch-1.10.2       | 115.2 MB  | #######8   |  79% \n",
      "pytorch-1.10.2       | 115.2 MB  | #######9   |  79% \n",
      "pytorch-1.10.2       | 115.2 MB  | ########   |  80% \n",
      "pytorch-1.10.2       | 115.2 MB  | ########   |  81% \n",
      "pytorch-1.10.2       | 115.2 MB  | ########1  |  81% \n",
      "pytorch-1.10.2       | 115.2 MB  | ########2  |  82% \n",
      "pytorch-1.10.2       | 115.2 MB  | ########3  |  83% \n",
      "pytorch-1.10.2       | 115.2 MB  | ########3  |  84% \n",
      "pytorch-1.10.2       | 115.2 MB  | ########4  |  85% \n",
      "pytorch-1.10.2       | 115.2 MB  | ########5  |  85% \n",
      "pytorch-1.10.2       | 115.2 MB  | ########6  |  86% \n",
      "pytorch-1.10.2       | 115.2 MB  | ########7  |  87% \n",
      "pytorch-1.10.2       | 115.2 MB  | ########7  |  88% \n",
      "pytorch-1.10.2       | 115.2 MB  | ########8  |  89% \n",
      "pytorch-1.10.2       | 115.2 MB  | ########9  |  89% \n",
      "pytorch-1.10.2       | 115.2 MB  | ########9  |  90% \n",
      "pytorch-1.10.2       | 115.2 MB  | #########  |  91% \n",
      "pytorch-1.10.2       | 115.2 MB  | #########1 |  92% \n",
      "pytorch-1.10.2       | 115.2 MB  | #########2 |  92% \n",
      "pytorch-1.10.2       | 115.2 MB  | #########3 |  93% \n",
      "pytorch-1.10.2       | 115.2 MB  | #########4 |  94% \n",
      "pytorch-1.10.2       | 115.2 MB  | #########4 |  95% \n",
      "pytorch-1.10.2       | 115.2 MB  | #########5 |  96% \n",
      "pytorch-1.10.2       | 115.2 MB  | #########6 |  97% \n",
      "pytorch-1.10.2       | 115.2 MB  | #########7 |  97% \n",
      "pytorch-1.10.2       | 115.2 MB  | #########8 |  98% \n",
      "pytorch-1.10.2       | 115.2 MB  | #########9 |  99% \n",
      "pytorch-1.10.2       | 115.2 MB  | #########9 | 100% \n",
      "pytorch-1.10.2       | 115.2 MB  | ########## | 100% \n",
      "\n",
      "pyyaml-6.0           | 154 KB    |            |   0% \n",
      "pyyaml-6.0           | 154 KB    | #          |  10% \n",
      "pyyaml-6.0           | 154 KB    | ########## | 100% \n",
      "pyyaml-6.0           | 154 KB    | ########## | 100% \n",
      "Preparing transaction: ...working... done\n",
      "Verifying transaction: ...working... done\n",
      "Executing transaction: ...working... done\n"
     ]
    }
   ],
   "source": [
    "%conda install -c conda-forge transformers"
   ]
  },
  {
   "cell_type": "markdown",
   "metadata": {},
   "source": [
    "### Instalando o Scikit learn"
   ]
  },
  {
   "cell_type": "code",
   "execution_count": null,
   "metadata": {},
   "outputs": [],
   "source": [
    "%conda install scikit-learn"
   ]
  },
  {
   "cell_type": "markdown",
   "metadata": {},
   "source": [
    "### Instalando o TextBlob"
   ]
  },
  {
   "cell_type": "code",
   "execution_count": null,
   "metadata": {},
   "outputs": [],
   "source": [
    "%conda install -c conda-forge textblob"
   ]
  }
 ],
 "metadata": {
  "interpreter": {
   "hash": "e876bd2ba7f66033916fe855677d8351f03a0df8f4d9fc4147f031fb68f1b0fb"
  },
  "kernelspec": {
   "display_name": "Python 3 (ipykernel)",
   "language": "python",
   "name": "python3"
  },
  "language_info": {
   "codemirror_mode": {
    "name": "ipython",
    "version": 3
   },
   "file_extension": ".py",
   "mimetype": "text/x-python",
   "name": "python",
   "nbconvert_exporter": "python",
   "pygments_lexer": "ipython3",
   "version": "3.9.12"
  }
 },
 "nbformat": 4,
 "nbformat_minor": 2
}
