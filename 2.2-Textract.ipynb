{
 "cells": [
  {
   "cell_type": "code",
   "execution_count": 1,
   "id": "1e836d3d",
   "metadata": {},
   "outputs": [],
   "source": [
    "import textract"
   ]
  },
  {
   "cell_type": "code",
   "execution_count": 2,
   "id": "f01c7e4c",
   "metadata": {},
   "outputs": [],
   "source": [
    "text = textract.process('2.2-do-rn-12022-04-01.pdf')"
   ]
  },
  {
   "cell_type": "code",
   "execution_count": 4,
   "id": "31a1bc9a",
   "metadata": {},
   "outputs": [],
   "source": [
    "with open('output.txt', 'w', encoding='utf-8') as f:\n",
    "    f.write(text.decode(\"utf-8\") )\n",
    "    f.close()"
   ]
  },
  {
   "cell_type": "code",
   "execution_count": null,
   "id": "c8d9725c",
   "metadata": {},
   "outputs": [],
   "source": []
  }
 ],
 "metadata": {
  "kernelspec": {
   "display_name": "Python 3 (ipykernel)",
   "language": "python",
   "name": "python3"
  },
  "language_info": {
   "codemirror_mode": {
    "name": "ipython",
    "version": 3
   },
   "file_extension": ".py",
   "mimetype": "text/x-python",
   "name": "python",
   "nbconvert_exporter": "python",
   "pygments_lexer": "ipython3",
   "version": "3.9.12"
  }
 },
 "nbformat": 4,
 "nbformat_minor": 5
}
