{
 "cells": [
  {
   "cell_type": "code",
   "execution_count": 1,
   "id": "8fdf1e84",
   "metadata": {},
   "outputs": [],
   "source": [
    "arq = 'AIEDRESP-1705808-2022-03-21.pdf'\n",
    "arq_png = 'pag-1-printscreen.png'"
   ]
  },
  {
   "cell_type": "code",
   "execution_count": 2,
   "id": "5a3be524",
   "metadata": {
    "scrolled": false
   },
   "outputs": [],
   "source": [
    "import textract\n",
    "\n",
    "texto = textract.process(arq).decode(\"utf-8\")\n",
    "\n",
    "with open('output-textract.txt', 'w', encoding='utf-8') as f:\n",
    "    f.write(texto)\n",
    "    f.close()\n",
    "\n",
    "#print(texto)"
   ]
  },
  {
   "cell_type": "code",
   "execution_count": 3,
   "id": "c9520429",
   "metadata": {},
   "outputs": [
    {
     "ename": "TypeError",
     "evalue": "expected str, bytes or os.PathLike object, not NoneType",
     "output_type": "error",
     "traceback": [
      "\u001b[1;31m---------------------------------------------------------------------------\u001b[0m",
      "\u001b[1;31mOSError\u001b[0m                                   Traceback (most recent call last)",
      "File \u001b[1;32m~\\.conda\\envs\\pln\\lib\\site-packages\\textract\\parsers\\pdf_parser.py:54\u001b[0m, in \u001b[0;36mParser.extract_pdfminer\u001b[1;34m(self, filename, **kwargs)\u001b[0m\n\u001b[0;32m     <a href='file:///c%3A/Users/admin/.conda/envs/pln/lib/site-packages/textract/parsers/pdf_parser.py?line=52'>53</a>\u001b[0m \u001b[39mtry\u001b[39;00m:\n\u001b[1;32m---> <a href='file:///c%3A/Users/admin/.conda/envs/pln/lib/site-packages/textract/parsers/pdf_parser.py?line=53'>54</a>\u001b[0m     stdout, _ \u001b[39m=\u001b[39m \u001b[39mself\u001b[39;49m\u001b[39m.\u001b[39;49mrun([\u001b[39m'\u001b[39;49m\u001b[39mpdf2txt.py\u001b[39;49m\u001b[39m'\u001b[39;49m, filename])\n\u001b[0;32m     <a href='file:///c%3A/Users/admin/.conda/envs/pln/lib/site-packages/textract/parsers/pdf_parser.py?line=54'>55</a>\u001b[0m \u001b[39mexcept\u001b[39;00m \u001b[39mOSError\u001b[39;00m:\n",
      "File \u001b[1;32m~\\.conda\\envs\\pln\\lib\\site-packages\\textract\\parsers\\utils.py:87\u001b[0m, in \u001b[0;36mShellParser.run\u001b[1;34m(self, args)\u001b[0m\n\u001b[0;32m     <a href='file:///c%3A/Users/admin/.conda/envs/pln/lib/site-packages/textract/parsers/utils.py?line=85'>86</a>\u001b[0m \u001b[39mtry\u001b[39;00m:\n\u001b[1;32m---> <a href='file:///c%3A/Users/admin/.conda/envs/pln/lib/site-packages/textract/parsers/utils.py?line=86'>87</a>\u001b[0m     pipe \u001b[39m=\u001b[39m subprocess\u001b[39m.\u001b[39;49mPopen(\n\u001b[0;32m     <a href='file:///c%3A/Users/admin/.conda/envs/pln/lib/site-packages/textract/parsers/utils.py?line=87'>88</a>\u001b[0m         args,\n\u001b[0;32m     <a href='file:///c%3A/Users/admin/.conda/envs/pln/lib/site-packages/textract/parsers/utils.py?line=88'>89</a>\u001b[0m         stdout\u001b[39m=\u001b[39;49msubprocess\u001b[39m.\u001b[39;49mPIPE, stderr\u001b[39m=\u001b[39;49msubprocess\u001b[39m.\u001b[39;49mPIPE,\n\u001b[0;32m     <a href='file:///c%3A/Users/admin/.conda/envs/pln/lib/site-packages/textract/parsers/utils.py?line=89'>90</a>\u001b[0m     )\n\u001b[0;32m     <a href='file:///c%3A/Users/admin/.conda/envs/pln/lib/site-packages/textract/parsers/utils.py?line=90'>91</a>\u001b[0m \u001b[39mexcept\u001b[39;00m \u001b[39mOSError\u001b[39;00m \u001b[39mas\u001b[39;00m e:\n",
      "File \u001b[1;32m~\\.conda\\envs\\pln\\lib\\subprocess.py:951\u001b[0m, in \u001b[0;36mPopen.__init__\u001b[1;34m(self, args, bufsize, executable, stdin, stdout, stderr, preexec_fn, close_fds, shell, cwd, env, universal_newlines, startupinfo, creationflags, restore_signals, start_new_session, pass_fds, user, group, extra_groups, encoding, errors, text, umask)\u001b[0m\n\u001b[0;32m    <a href='file:///c%3A/Users/admin/.conda/envs/pln/lib/subprocess.py?line=947'>948</a>\u001b[0m             \u001b[39mself\u001b[39m\u001b[39m.\u001b[39mstderr \u001b[39m=\u001b[39m io\u001b[39m.\u001b[39mTextIOWrapper(\u001b[39mself\u001b[39m\u001b[39m.\u001b[39mstderr,\n\u001b[0;32m    <a href='file:///c%3A/Users/admin/.conda/envs/pln/lib/subprocess.py?line=948'>949</a>\u001b[0m                     encoding\u001b[39m=\u001b[39mencoding, errors\u001b[39m=\u001b[39merrors)\n\u001b[1;32m--> <a href='file:///c%3A/Users/admin/.conda/envs/pln/lib/subprocess.py?line=950'>951</a>\u001b[0m     \u001b[39mself\u001b[39;49m\u001b[39m.\u001b[39;49m_execute_child(args, executable, preexec_fn, close_fds,\n\u001b[0;32m    <a href='file:///c%3A/Users/admin/.conda/envs/pln/lib/subprocess.py?line=951'>952</a>\u001b[0m                         pass_fds, cwd, env,\n\u001b[0;32m    <a href='file:///c%3A/Users/admin/.conda/envs/pln/lib/subprocess.py?line=952'>953</a>\u001b[0m                         startupinfo, creationflags, shell,\n\u001b[0;32m    <a href='file:///c%3A/Users/admin/.conda/envs/pln/lib/subprocess.py?line=953'>954</a>\u001b[0m                         p2cread, p2cwrite,\n\u001b[0;32m    <a href='file:///c%3A/Users/admin/.conda/envs/pln/lib/subprocess.py?line=954'>955</a>\u001b[0m                         c2pread, c2pwrite,\n\u001b[0;32m    <a href='file:///c%3A/Users/admin/.conda/envs/pln/lib/subprocess.py?line=955'>956</a>\u001b[0m                         errread, errwrite,\n\u001b[0;32m    <a href='file:///c%3A/Users/admin/.conda/envs/pln/lib/subprocess.py?line=956'>957</a>\u001b[0m                         restore_signals,\n\u001b[0;32m    <a href='file:///c%3A/Users/admin/.conda/envs/pln/lib/subprocess.py?line=957'>958</a>\u001b[0m                         gid, gids, uid, umask,\n\u001b[0;32m    <a href='file:///c%3A/Users/admin/.conda/envs/pln/lib/subprocess.py?line=958'>959</a>\u001b[0m                         start_new_session)\n\u001b[0;32m    <a href='file:///c%3A/Users/admin/.conda/envs/pln/lib/subprocess.py?line=959'>960</a>\u001b[0m \u001b[39mexcept\u001b[39;00m:\n\u001b[0;32m    <a href='file:///c%3A/Users/admin/.conda/envs/pln/lib/subprocess.py?line=960'>961</a>\u001b[0m     \u001b[39m# Cleanup if the child failed starting.\u001b[39;00m\n",
      "File \u001b[1;32m~\\.conda\\envs\\pln\\lib\\subprocess.py:1420\u001b[0m, in \u001b[0;36mPopen._execute_child\u001b[1;34m(self, args, executable, preexec_fn, close_fds, pass_fds, cwd, env, startupinfo, creationflags, shell, p2cread, p2cwrite, c2pread, c2pwrite, errread, errwrite, unused_restore_signals, unused_gid, unused_gids, unused_uid, unused_umask, unused_start_new_session)\u001b[0m\n\u001b[0;32m   <a href='file:///c%3A/Users/admin/.conda/envs/pln/lib/subprocess.py?line=1418'>1419</a>\u001b[0m \u001b[39mtry\u001b[39;00m:\n\u001b[1;32m-> <a href='file:///c%3A/Users/admin/.conda/envs/pln/lib/subprocess.py?line=1419'>1420</a>\u001b[0m     hp, ht, pid, tid \u001b[39m=\u001b[39m _winapi\u001b[39m.\u001b[39;49mCreateProcess(executable, args,\n\u001b[0;32m   <a href='file:///c%3A/Users/admin/.conda/envs/pln/lib/subprocess.py?line=1420'>1421</a>\u001b[0m                              \u001b[39m# no special security\u001b[39;49;00m\n\u001b[0;32m   <a href='file:///c%3A/Users/admin/.conda/envs/pln/lib/subprocess.py?line=1421'>1422</a>\u001b[0m                              \u001b[39mNone\u001b[39;49;00m, \u001b[39mNone\u001b[39;49;00m,\n\u001b[0;32m   <a href='file:///c%3A/Users/admin/.conda/envs/pln/lib/subprocess.py?line=1422'>1423</a>\u001b[0m                              \u001b[39mint\u001b[39;49m(\u001b[39mnot\u001b[39;49;00m close_fds),\n\u001b[0;32m   <a href='file:///c%3A/Users/admin/.conda/envs/pln/lib/subprocess.py?line=1423'>1424</a>\u001b[0m                              creationflags,\n\u001b[0;32m   <a href='file:///c%3A/Users/admin/.conda/envs/pln/lib/subprocess.py?line=1424'>1425</a>\u001b[0m                              env,\n\u001b[0;32m   <a href='file:///c%3A/Users/admin/.conda/envs/pln/lib/subprocess.py?line=1425'>1426</a>\u001b[0m                              cwd,\n\u001b[0;32m   <a href='file:///c%3A/Users/admin/.conda/envs/pln/lib/subprocess.py?line=1426'>1427</a>\u001b[0m                              startupinfo)\n\u001b[0;32m   <a href='file:///c%3A/Users/admin/.conda/envs/pln/lib/subprocess.py?line=1427'>1428</a>\u001b[0m \u001b[39mfinally\u001b[39;00m:\n\u001b[0;32m   <a href='file:///c%3A/Users/admin/.conda/envs/pln/lib/subprocess.py?line=1428'>1429</a>\u001b[0m     \u001b[39m# Child is launched. Close the parent's copy of those pipe\u001b[39;00m\n\u001b[0;32m   <a href='file:///c%3A/Users/admin/.conda/envs/pln/lib/subprocess.py?line=1429'>1430</a>\u001b[0m     \u001b[39m# handles that only the child should have open.  You need\u001b[39;00m\n\u001b[1;32m   (...)\u001b[0m\n\u001b[0;32m   <a href='file:///c%3A/Users/admin/.conda/envs/pln/lib/subprocess.py?line=1432'>1433</a>\u001b[0m     \u001b[39m# pipe will not close when the child process exits and the\u001b[39;00m\n\u001b[0;32m   <a href='file:///c%3A/Users/admin/.conda/envs/pln/lib/subprocess.py?line=1433'>1434</a>\u001b[0m     \u001b[39m# ReadFile will hang.\u001b[39;00m\n",
      "\u001b[1;31mOSError\u001b[0m: [WinError 193] %1 não é um aplicativo Win32 válido",
      "\nDuring handling of the above exception, another exception occurred:\n",
      "\u001b[1;31mTypeError\u001b[0m                                 Traceback (most recent call last)",
      "\u001b[1;32mc:\\Users\\admin\\OneDrive\\Dropbox\\ufrn\\componentesCurriculares\\pln\\notebooks\\acordaos-stj-inss\\Extrair textos.ipynb Cell 3'\u001b[0m in \u001b[0;36m<cell line: 1>\u001b[1;34m()\u001b[0m\n\u001b[1;32m----> <a href='vscode-notebook-cell:/c%3A/Users/admin/OneDrive/Dropbox/ufrn/componentesCurriculares/pln/notebooks/acordaos-stj-inss/Extrair%20textos.ipynb#ch0000002?line=0'>1</a>\u001b[0m texto \u001b[39m=\u001b[39m textract\u001b[39m.\u001b[39;49mprocess(arq, method\u001b[39m=\u001b[39;49m\u001b[39m'\u001b[39;49m\u001b[39mpdfminer\u001b[39;49m\u001b[39m'\u001b[39;49m)\u001b[39m.\u001b[39mdecode(\u001b[39m\"\u001b[39m\u001b[39mutf-8\u001b[39m\u001b[39m\"\u001b[39m)\n\u001b[0;32m      <a href='vscode-notebook-cell:/c%3A/Users/admin/OneDrive/Dropbox/ufrn/componentesCurriculares/pln/notebooks/acordaos-stj-inss/Extrair%20textos.ipynb#ch0000002?line=2'>3</a>\u001b[0m \u001b[39mwith\u001b[39;00m \u001b[39mopen\u001b[39m(\u001b[39m'\u001b[39m\u001b[39moutput-textract_pdfminer.txt\u001b[39m\u001b[39m'\u001b[39m, \u001b[39m'\u001b[39m\u001b[39mw\u001b[39m\u001b[39m'\u001b[39m, encoding\u001b[39m=\u001b[39m\u001b[39m'\u001b[39m\u001b[39mutf-8\u001b[39m\u001b[39m'\u001b[39m) \u001b[39mas\u001b[39;00m f:\n\u001b[0;32m      <a href='vscode-notebook-cell:/c%3A/Users/admin/OneDrive/Dropbox/ufrn/componentesCurriculares/pln/notebooks/acordaos-stj-inss/Extrair%20textos.ipynb#ch0000002?line=3'>4</a>\u001b[0m     f\u001b[39m.\u001b[39mwrite(texto)\n",
      "File \u001b[1;32m~\\.conda\\envs\\pln\\lib\\site-packages\\textract\\parsers\\__init__.py:79\u001b[0m, in \u001b[0;36mprocess\u001b[1;34m(filename, input_encoding, output_encoding, extension, **kwargs)\u001b[0m\n\u001b[0;32m     <a href='file:///c%3A/Users/admin/.conda/envs/pln/lib/site-packages/textract/parsers/__init__.py?line=75'>76</a>\u001b[0m \u001b[39m# do the extraction\u001b[39;00m\n\u001b[0;32m     <a href='file:///c%3A/Users/admin/.conda/envs/pln/lib/site-packages/textract/parsers/__init__.py?line=77'>78</a>\u001b[0m parser \u001b[39m=\u001b[39m filetype_module\u001b[39m.\u001b[39mParser()\n\u001b[1;32m---> <a href='file:///c%3A/Users/admin/.conda/envs/pln/lib/site-packages/textract/parsers/__init__.py?line=78'>79</a>\u001b[0m \u001b[39mreturn\u001b[39;00m parser\u001b[39m.\u001b[39mprocess(filename, input_encoding, output_encoding, \u001b[39m*\u001b[39m\u001b[39m*\u001b[39mkwargs)\n",
      "File \u001b[1;32m~\\.conda\\envs\\pln\\lib\\site-packages\\textract\\parsers\\utils.py:46\u001b[0m, in \u001b[0;36mBaseParser.process\u001b[1;34m(self, filename, input_encoding, output_encoding, **kwargs)\u001b[0m\n\u001b[0;32m     <a href='file:///c%3A/Users/admin/.conda/envs/pln/lib/site-packages/textract/parsers/utils.py?line=35'>36</a>\u001b[0m \u001b[39m\"\"\"Process ``filename`` and encode byte-string with ``encoding``. This\u001b[39;00m\n\u001b[0;32m     <a href='file:///c%3A/Users/admin/.conda/envs/pln/lib/site-packages/textract/parsers/utils.py?line=36'>37</a>\u001b[0m \u001b[39mmethod is called by :func:`textract.parsers.process` and wraps\u001b[39;00m\n\u001b[0;32m     <a href='file:///c%3A/Users/admin/.conda/envs/pln/lib/site-packages/textract/parsers/utils.py?line=37'>38</a>\u001b[0m \u001b[39mthe :meth:`.BaseParser.extract` method in `a delicious unicode\u001b[39;00m\n\u001b[0;32m     <a href='file:///c%3A/Users/admin/.conda/envs/pln/lib/site-packages/textract/parsers/utils.py?line=38'>39</a>\u001b[0m \u001b[39msandwich <http://nedbatchelder.com/text/unipain.html>`_.\u001b[39;00m\n\u001b[0;32m     <a href='file:///c%3A/Users/admin/.conda/envs/pln/lib/site-packages/textract/parsers/utils.py?line=39'>40</a>\u001b[0m \n\u001b[0;32m     <a href='file:///c%3A/Users/admin/.conda/envs/pln/lib/site-packages/textract/parsers/utils.py?line=40'>41</a>\u001b[0m \u001b[39m\"\"\"\u001b[39;00m\n\u001b[0;32m     <a href='file:///c%3A/Users/admin/.conda/envs/pln/lib/site-packages/textract/parsers/utils.py?line=41'>42</a>\u001b[0m \u001b[39m# make a \"unicode sandwich\" to handle dealing with unknown\u001b[39;00m\n\u001b[0;32m     <a href='file:///c%3A/Users/admin/.conda/envs/pln/lib/site-packages/textract/parsers/utils.py?line=42'>43</a>\u001b[0m \u001b[39m# input byte strings and converting them to a predictable\u001b[39;00m\n\u001b[0;32m     <a href='file:///c%3A/Users/admin/.conda/envs/pln/lib/site-packages/textract/parsers/utils.py?line=43'>44</a>\u001b[0m \u001b[39m# output encoding\u001b[39;00m\n\u001b[0;32m     <a href='file:///c%3A/Users/admin/.conda/envs/pln/lib/site-packages/textract/parsers/utils.py?line=44'>45</a>\u001b[0m \u001b[39m# http://nedbatchelder.com/text/unipain/unipain.html#35\u001b[39;00m\n\u001b[1;32m---> <a href='file:///c%3A/Users/admin/.conda/envs/pln/lib/site-packages/textract/parsers/utils.py?line=45'>46</a>\u001b[0m byte_string \u001b[39m=\u001b[39m \u001b[39mself\u001b[39m\u001b[39m.\u001b[39mextract(filename, \u001b[39m*\u001b[39m\u001b[39m*\u001b[39mkwargs)\n\u001b[0;32m     <a href='file:///c%3A/Users/admin/.conda/envs/pln/lib/site-packages/textract/parsers/utils.py?line=46'>47</a>\u001b[0m unicode_string \u001b[39m=\u001b[39m \u001b[39mself\u001b[39m\u001b[39m.\u001b[39mdecode(byte_string, input_encoding)\n\u001b[0;32m     <a href='file:///c%3A/Users/admin/.conda/envs/pln/lib/site-packages/textract/parsers/utils.py?line=47'>48</a>\u001b[0m \u001b[39mreturn\u001b[39;00m \u001b[39mself\u001b[39m\u001b[39m.\u001b[39mencode(unicode_string, output_encoding)\n",
      "File \u001b[1;32m~\\.conda\\envs\\pln\\lib\\site-packages\\textract\\parsers\\pdf_parser.py:32\u001b[0m, in \u001b[0;36mParser.extract\u001b[1;34m(self, filename, method, **kwargs)\u001b[0m\n\u001b[0;32m     <a href='file:///c%3A/Users/admin/.conda/envs/pln/lib/site-packages/textract/parsers/pdf_parser.py?line=28'>29</a>\u001b[0m             \u001b[39mraise\u001b[39;00m ex\n\u001b[0;32m     <a href='file:///c%3A/Users/admin/.conda/envs/pln/lib/site-packages/textract/parsers/pdf_parser.py?line=30'>31</a>\u001b[0m \u001b[39melif\u001b[39;00m method \u001b[39m==\u001b[39m \u001b[39m'\u001b[39m\u001b[39mpdfminer\u001b[39m\u001b[39m'\u001b[39m:\n\u001b[1;32m---> <a href='file:///c%3A/Users/admin/.conda/envs/pln/lib/site-packages/textract/parsers/pdf_parser.py?line=31'>32</a>\u001b[0m     \u001b[39mreturn\u001b[39;00m \u001b[39mself\u001b[39m\u001b[39m.\u001b[39mextract_pdfminer(filename, \u001b[39m*\u001b[39m\u001b[39m*\u001b[39mkwargs)\n\u001b[0;32m     <a href='file:///c%3A/Users/admin/.conda/envs/pln/lib/site-packages/textract/parsers/pdf_parser.py?line=32'>33</a>\u001b[0m \u001b[39melif\u001b[39;00m method \u001b[39m==\u001b[39m \u001b[39m'\u001b[39m\u001b[39mtesseract\u001b[39m\u001b[39m'\u001b[39m:\n\u001b[0;32m     <a href='file:///c%3A/Users/admin/.conda/envs/pln/lib/site-packages/textract/parsers/pdf_parser.py?line=33'>34</a>\u001b[0m     \u001b[39mreturn\u001b[39;00m \u001b[39mself\u001b[39m\u001b[39m.\u001b[39mextract_tesseract(filename, \u001b[39m*\u001b[39m\u001b[39m*\u001b[39mkwargs)\n",
      "File \u001b[1;32m~\\.conda\\envs\\pln\\lib\\site-packages\\textract\\parsers\\pdf_parser.py:57\u001b[0m, in \u001b[0;36mParser.extract_pdfminer\u001b[1;34m(self, filename, **kwargs)\u001b[0m\n\u001b[0;32m     <a href='file:///c%3A/Users/admin/.conda/envs/pln/lib/site-packages/textract/parsers/pdf_parser.py?line=54'>55</a>\u001b[0m \u001b[39mexcept\u001b[39;00m \u001b[39mOSError\u001b[39;00m:\n\u001b[0;32m     <a href='file:///c%3A/Users/admin/.conda/envs/pln/lib/site-packages/textract/parsers/pdf_parser.py?line=55'>56</a>\u001b[0m     \u001b[39mtry\u001b[39;00m:\n\u001b[1;32m---> <a href='file:///c%3A/Users/admin/.conda/envs/pln/lib/site-packages/textract/parsers/pdf_parser.py?line=56'>57</a>\u001b[0m         stdout, _ \u001b[39m=\u001b[39m \u001b[39mself\u001b[39;49m\u001b[39m.\u001b[39;49mrun([\u001b[39m'\u001b[39;49m\u001b[39mpython3\u001b[39;49m\u001b[39m'\u001b[39;49m,pdf2txt_path, filename])\n\u001b[0;32m     <a href='file:///c%3A/Users/admin/.conda/envs/pln/lib/site-packages/textract/parsers/pdf_parser.py?line=57'>58</a>\u001b[0m     \u001b[39mexcept\u001b[39;00m ShellError:\n\u001b[0;32m     <a href='file:///c%3A/Users/admin/.conda/envs/pln/lib/site-packages/textract/parsers/pdf_parser.py?line=58'>59</a>\u001b[0m         stdout, _ \u001b[39m=\u001b[39m \u001b[39mself\u001b[39m\u001b[39m.\u001b[39mrun([\u001b[39m'\u001b[39m\u001b[39mpython2\u001b[39m\u001b[39m'\u001b[39m,pdf2txt_path, filename])\n",
      "File \u001b[1;32m~\\.conda\\envs\\pln\\lib\\site-packages\\textract\\parsers\\utils.py:87\u001b[0m, in \u001b[0;36mShellParser.run\u001b[1;34m(self, args)\u001b[0m\n\u001b[0;32m     <a href='file:///c%3A/Users/admin/.conda/envs/pln/lib/site-packages/textract/parsers/utils.py?line=84'>85</a>\u001b[0m \u001b[39m# run a subprocess and put the stdout and stderr on the pipe object\u001b[39;00m\n\u001b[0;32m     <a href='file:///c%3A/Users/admin/.conda/envs/pln/lib/site-packages/textract/parsers/utils.py?line=85'>86</a>\u001b[0m \u001b[39mtry\u001b[39;00m:\n\u001b[1;32m---> <a href='file:///c%3A/Users/admin/.conda/envs/pln/lib/site-packages/textract/parsers/utils.py?line=86'>87</a>\u001b[0m     pipe \u001b[39m=\u001b[39m subprocess\u001b[39m.\u001b[39;49mPopen(\n\u001b[0;32m     <a href='file:///c%3A/Users/admin/.conda/envs/pln/lib/site-packages/textract/parsers/utils.py?line=87'>88</a>\u001b[0m         args,\n\u001b[0;32m     <a href='file:///c%3A/Users/admin/.conda/envs/pln/lib/site-packages/textract/parsers/utils.py?line=88'>89</a>\u001b[0m         stdout\u001b[39m=\u001b[39;49msubprocess\u001b[39m.\u001b[39;49mPIPE, stderr\u001b[39m=\u001b[39;49msubprocess\u001b[39m.\u001b[39;49mPIPE,\n\u001b[0;32m     <a href='file:///c%3A/Users/admin/.conda/envs/pln/lib/site-packages/textract/parsers/utils.py?line=89'>90</a>\u001b[0m     )\n\u001b[0;32m     <a href='file:///c%3A/Users/admin/.conda/envs/pln/lib/site-packages/textract/parsers/utils.py?line=90'>91</a>\u001b[0m \u001b[39mexcept\u001b[39;00m \u001b[39mOSError\u001b[39;00m \u001b[39mas\u001b[39;00m e:\n\u001b[0;32m     <a href='file:///c%3A/Users/admin/.conda/envs/pln/lib/site-packages/textract/parsers/utils.py?line=91'>92</a>\u001b[0m     \u001b[39mif\u001b[39;00m e\u001b[39m.\u001b[39merrno \u001b[39m==\u001b[39m errno\u001b[39m.\u001b[39mENOENT:\n\u001b[0;32m     <a href='file:///c%3A/Users/admin/.conda/envs/pln/lib/site-packages/textract/parsers/utils.py?line=92'>93</a>\u001b[0m         \u001b[39m# File not found.\u001b[39;00m\n\u001b[0;32m     <a href='file:///c%3A/Users/admin/.conda/envs/pln/lib/site-packages/textract/parsers/utils.py?line=93'>94</a>\u001b[0m         \u001b[39m# This is equivalent to getting exitcode 127 from sh\u001b[39;00m\n",
      "File \u001b[1;32m~\\.conda\\envs\\pln\\lib\\subprocess.py:951\u001b[0m, in \u001b[0;36mPopen.__init__\u001b[1;34m(self, args, bufsize, executable, stdin, stdout, stderr, preexec_fn, close_fds, shell, cwd, env, universal_newlines, startupinfo, creationflags, restore_signals, start_new_session, pass_fds, user, group, extra_groups, encoding, errors, text, umask)\u001b[0m\n\u001b[0;32m    <a href='file:///c%3A/Users/admin/.conda/envs/pln/lib/subprocess.py?line=946'>947</a>\u001b[0m         \u001b[39mif\u001b[39;00m \u001b[39mself\u001b[39m\u001b[39m.\u001b[39mtext_mode:\n\u001b[0;32m    <a href='file:///c%3A/Users/admin/.conda/envs/pln/lib/subprocess.py?line=947'>948</a>\u001b[0m             \u001b[39mself\u001b[39m\u001b[39m.\u001b[39mstderr \u001b[39m=\u001b[39m io\u001b[39m.\u001b[39mTextIOWrapper(\u001b[39mself\u001b[39m\u001b[39m.\u001b[39mstderr,\n\u001b[0;32m    <a href='file:///c%3A/Users/admin/.conda/envs/pln/lib/subprocess.py?line=948'>949</a>\u001b[0m                     encoding\u001b[39m=\u001b[39mencoding, errors\u001b[39m=\u001b[39merrors)\n\u001b[1;32m--> <a href='file:///c%3A/Users/admin/.conda/envs/pln/lib/subprocess.py?line=950'>951</a>\u001b[0m     \u001b[39mself\u001b[39;49m\u001b[39m.\u001b[39;49m_execute_child(args, executable, preexec_fn, close_fds,\n\u001b[0;32m    <a href='file:///c%3A/Users/admin/.conda/envs/pln/lib/subprocess.py?line=951'>952</a>\u001b[0m                         pass_fds, cwd, env,\n\u001b[0;32m    <a href='file:///c%3A/Users/admin/.conda/envs/pln/lib/subprocess.py?line=952'>953</a>\u001b[0m                         startupinfo, creationflags, shell,\n\u001b[0;32m    <a href='file:///c%3A/Users/admin/.conda/envs/pln/lib/subprocess.py?line=953'>954</a>\u001b[0m                         p2cread, p2cwrite,\n\u001b[0;32m    <a href='file:///c%3A/Users/admin/.conda/envs/pln/lib/subprocess.py?line=954'>955</a>\u001b[0m                         c2pread, c2pwrite,\n\u001b[0;32m    <a href='file:///c%3A/Users/admin/.conda/envs/pln/lib/subprocess.py?line=955'>956</a>\u001b[0m                         errread, errwrite,\n\u001b[0;32m    <a href='file:///c%3A/Users/admin/.conda/envs/pln/lib/subprocess.py?line=956'>957</a>\u001b[0m                         restore_signals,\n\u001b[0;32m    <a href='file:///c%3A/Users/admin/.conda/envs/pln/lib/subprocess.py?line=957'>958</a>\u001b[0m                         gid, gids, uid, umask,\n\u001b[0;32m    <a href='file:///c%3A/Users/admin/.conda/envs/pln/lib/subprocess.py?line=958'>959</a>\u001b[0m                         start_new_session)\n\u001b[0;32m    <a href='file:///c%3A/Users/admin/.conda/envs/pln/lib/subprocess.py?line=959'>960</a>\u001b[0m \u001b[39mexcept\u001b[39;00m:\n\u001b[0;32m    <a href='file:///c%3A/Users/admin/.conda/envs/pln/lib/subprocess.py?line=960'>961</a>\u001b[0m     \u001b[39m# Cleanup if the child failed starting.\u001b[39;00m\n\u001b[0;32m    <a href='file:///c%3A/Users/admin/.conda/envs/pln/lib/subprocess.py?line=961'>962</a>\u001b[0m     \u001b[39mfor\u001b[39;00m f \u001b[39min\u001b[39;00m \u001b[39mfilter\u001b[39m(\u001b[39mNone\u001b[39;00m, (\u001b[39mself\u001b[39m\u001b[39m.\u001b[39mstdin, \u001b[39mself\u001b[39m\u001b[39m.\u001b[39mstdout, \u001b[39mself\u001b[39m\u001b[39m.\u001b[39mstderr)):\n",
      "File \u001b[1;32m~\\.conda\\envs\\pln\\lib\\subprocess.py:1360\u001b[0m, in \u001b[0;36mPopen._execute_child\u001b[1;34m(self, args, executable, preexec_fn, close_fds, pass_fds, cwd, env, startupinfo, creationflags, shell, p2cread, p2cwrite, c2pread, c2pwrite, errread, errwrite, unused_restore_signals, unused_gid, unused_gids, unused_uid, unused_umask, unused_start_new_session)\u001b[0m\n\u001b[0;32m   <a href='file:///c%3A/Users/admin/.conda/envs/pln/lib/subprocess.py?line=1357'>1358</a>\u001b[0m     args \u001b[39m=\u001b[39m list2cmdline([args])\n\u001b[0;32m   <a href='file:///c%3A/Users/admin/.conda/envs/pln/lib/subprocess.py?line=1358'>1359</a>\u001b[0m \u001b[39melse\u001b[39;00m:\n\u001b[1;32m-> <a href='file:///c%3A/Users/admin/.conda/envs/pln/lib/subprocess.py?line=1359'>1360</a>\u001b[0m     args \u001b[39m=\u001b[39m list2cmdline(args)\n\u001b[0;32m   <a href='file:///c%3A/Users/admin/.conda/envs/pln/lib/subprocess.py?line=1361'>1362</a>\u001b[0m \u001b[39mif\u001b[39;00m executable \u001b[39mis\u001b[39;00m \u001b[39mnot\u001b[39;00m \u001b[39mNone\u001b[39;00m:\n\u001b[0;32m   <a href='file:///c%3A/Users/admin/.conda/envs/pln/lib/subprocess.py?line=1362'>1363</a>\u001b[0m     executable \u001b[39m=\u001b[39m os\u001b[39m.\u001b[39mfsdecode(executable)\n",
      "File \u001b[1;32m~\\.conda\\envs\\pln\\lib\\subprocess.py:565\u001b[0m, in \u001b[0;36mlist2cmdline\u001b[1;34m(seq)\u001b[0m\n\u001b[0;32m    <a href='file:///c%3A/Users/admin/.conda/envs/pln/lib/subprocess.py?line=562'>563</a>\u001b[0m result \u001b[39m=\u001b[39m []\n\u001b[0;32m    <a href='file:///c%3A/Users/admin/.conda/envs/pln/lib/subprocess.py?line=563'>564</a>\u001b[0m needquote \u001b[39m=\u001b[39m \u001b[39mFalse\u001b[39;00m\n\u001b[1;32m--> <a href='file:///c%3A/Users/admin/.conda/envs/pln/lib/subprocess.py?line=564'>565</a>\u001b[0m \u001b[39mfor\u001b[39;00m arg \u001b[39min\u001b[39;00m \u001b[39mmap\u001b[39m(os\u001b[39m.\u001b[39mfsdecode, seq):\n\u001b[0;32m    <a href='file:///c%3A/Users/admin/.conda/envs/pln/lib/subprocess.py?line=565'>566</a>\u001b[0m     bs_buf \u001b[39m=\u001b[39m []\n\u001b[0;32m    <a href='file:///c%3A/Users/admin/.conda/envs/pln/lib/subprocess.py?line=567'>568</a>\u001b[0m     \u001b[39m# Add a space to separate this argument from the others\u001b[39;00m\n",
      "File \u001b[1;32m~\\.conda\\envs\\pln\\lib\\os.py:822\u001b[0m, in \u001b[0;36m_fscodec.<locals>.fsdecode\u001b[1;34m(filename)\u001b[0m\n\u001b[0;32m    <a href='file:///c%3A/Users/admin/.conda/envs/pln/lib/os.py?line=815'>816</a>\u001b[0m \u001b[39mdef\u001b[39;00m \u001b[39mfsdecode\u001b[39m(filename):\n\u001b[0;32m    <a href='file:///c%3A/Users/admin/.conda/envs/pln/lib/os.py?line=816'>817</a>\u001b[0m     \u001b[39m\"\"\"Decode filename (an os.PathLike, bytes, or str) from the filesystem\u001b[39;00m\n\u001b[0;32m    <a href='file:///c%3A/Users/admin/.conda/envs/pln/lib/os.py?line=817'>818</a>\u001b[0m \u001b[39m    encoding with 'surrogateescape' error handler, return str unchanged. On\u001b[39;00m\n\u001b[0;32m    <a href='file:///c%3A/Users/admin/.conda/envs/pln/lib/os.py?line=818'>819</a>\u001b[0m \u001b[39m    Windows, use 'strict' error handler if the file system encoding is\u001b[39;00m\n\u001b[0;32m    <a href='file:///c%3A/Users/admin/.conda/envs/pln/lib/os.py?line=819'>820</a>\u001b[0m \u001b[39m    'mbcs' (which is the default encoding).\u001b[39;00m\n\u001b[0;32m    <a href='file:///c%3A/Users/admin/.conda/envs/pln/lib/os.py?line=820'>821</a>\u001b[0m \u001b[39m    \"\"\"\u001b[39;00m\n\u001b[1;32m--> <a href='file:///c%3A/Users/admin/.conda/envs/pln/lib/os.py?line=821'>822</a>\u001b[0m     filename \u001b[39m=\u001b[39m fspath(filename)  \u001b[39m# Does type-checking of `filename`.\u001b[39;00m\n\u001b[0;32m    <a href='file:///c%3A/Users/admin/.conda/envs/pln/lib/os.py?line=822'>823</a>\u001b[0m     \u001b[39mif\u001b[39;00m \u001b[39misinstance\u001b[39m(filename, \u001b[39mbytes\u001b[39m):\n\u001b[0;32m    <a href='file:///c%3A/Users/admin/.conda/envs/pln/lib/os.py?line=823'>824</a>\u001b[0m         \u001b[39mreturn\u001b[39;00m filename\u001b[39m.\u001b[39mdecode(encoding, errors)\n",
      "\u001b[1;31mTypeError\u001b[0m: expected str, bytes or os.PathLike object, not NoneType"
     ]
    }
   ],
   "source": [
    "texto = textract.process(arq, method='pdfminer').decode(\"utf-8\")\n",
    "\n",
    "with open('output-textract_pdfminer.txt', 'w', encoding='utf-8') as f:\n",
    "    f.write(texto)\n",
    "    f.close()\n",
    "\n",
    "#print(texto)\n"
   ]
  },
  {
   "cell_type": "code",
   "execution_count": 4,
   "id": "a795c6a6",
   "metadata": {},
   "outputs": [],
   "source": [
    "# Usando diretamente o PDFMINER, sem ser via textract\n",
    "from io import StringIO\n",
    "\n",
    "from pdfminer.converter import TextConverter\n",
    "from pdfminer.layout import LAParams\n",
    "from pdfminer.pdfdocument import PDFDocument\n",
    "from pdfminer.pdfinterp import PDFResourceManager, PDFPageInterpreter\n",
    "from pdfminer.pdfpage import PDFPage\n",
    "from pdfminer.pdfparser import PDFParser\n",
    "\n",
    "output_string = StringIO()\n",
    "with open(arq, 'rb') as in_file:\n",
    "    parser = PDFParser(in_file)\n",
    "    doc = PDFDocument(parser)\n",
    "    rsrcmgr = PDFResourceManager()\n",
    "    device = TextConverter(rsrcmgr, output_string, laparams=LAParams())\n",
    "    interpreter = PDFPageInterpreter(rsrcmgr, device)\n",
    "    for page in PDFPage.create_pages(doc):\n",
    "        interpreter.process_page(page)\n",
    "\n",
    "texto = output_string.getvalue()\n",
    "\n",
    "with open('output-textract_pdfminer.txt', 'w', encoding='utf-8') as f:\n",
    "    f.write(texto)\n",
    "    f.close()\n"
   ]
  },
  {
   "cell_type": "code",
   "execution_count": 6,
   "id": "acc0014f",
   "metadata": {},
   "outputs": [
    {
     "name": "stdout",
     "output_type": "stream",
     "text": [
      "env: PATH=%PATH%;c:/Program Files/Tesseract-OCR/\n"
     ]
    }
   ],
   "source": [
    "# Indique o caminho do tesseract\n",
    "%env PATH=%PATH%;c:/Program Files/Tesseract-OCR/"
   ]
  },
  {
   "cell_type": "code",
   "execution_count": 7,
   "id": "b58d3580",
   "metadata": {},
   "outputs": [],
   "source": [
    "texto = textract.process(arq_png).decode(\"utf-8\")\n",
    "\n",
    "with open('output-textract_png.txt', 'w', encoding='utf-8') as f:\n",
    "    f.write(texto)\n",
    "    f.close()\n",
    "\n",
    "#print(texto)"
   ]
  }
 ],
 "metadata": {
  "kernelspec": {
   "display_name": "Python 3 (ipykernel)",
   "language": "python",
   "name": "python3"
  },
  "language_info": {
   "codemirror_mode": {
    "name": "ipython",
    "version": 3
   },
   "file_extension": ".py",
   "mimetype": "text/x-python",
   "name": "python",
   "nbconvert_exporter": "python",
   "pygments_lexer": "ipython3",
   "version": "3.9.12"
  }
 },
 "nbformat": 4,
 "nbformat_minor": 5
}
