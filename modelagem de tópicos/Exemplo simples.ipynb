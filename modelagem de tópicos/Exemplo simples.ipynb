{
 "cells": [
  {
   "cell_type": "markdown",
   "id": "7972915a",
   "metadata": {},
   "source": [
    "## Versão LDA"
   ]
  },
  {
   "cell_type": "markdown",
   "id": "f9fe84d7",
   "metadata": {},
   "source": [
    "### Exemplo do que seria um corpus tratado"
   ]
  },
  {
   "cell_type": "code",
   "execution_count": 3,
   "id": "ad3dd610",
   "metadata": {},
   "outputs": [],
   "source": [
    "texts = [[u'football', u'club', u'arsenal', u'defeat', u'local', u'rival', u'weekend'], [u'weekend', u'football', u'frenzy', u'take', u'london'],\n",
    "[u'football', u'club', u'arsenal', u'bank', u'open', u'bid', u'lose', 'million'],\n",
    "[u'london', u'football', u'club', u'bid', u'wembley', u'stadium']]\n",
    "\n"
   ]
  },
  {
   "cell_type": "markdown",
   "id": "ecb6a692",
   "metadata": {},
   "source": [
    "### Prepara dicionário e vetoriza documentos"
   ]
  },
  {
   "cell_type": "code",
   "execution_count": 4,
   "id": "a9bec92a",
   "metadata": {},
   "outputs": [],
   "source": [
    "from gensim import corpora\n",
    "dictionary = corpora.Dictionary(texts)\n",
    "corpus = [dictionary.doc2bow(text) for text in texts]"
   ]
  },
  {
   "cell_type": "markdown",
   "id": "0916c8a8",
   "metadata": {},
   "source": [
    "### Aplica LDA"
   ]
  },
  {
   "cell_type": "code",
   "execution_count": 7,
   "id": "c4c95189",
   "metadata": {},
   "outputs": [
    {
     "data": {
      "text/plain": [
       "[(0,\n",
       "  '0.100*\"rival\" + 0.098*\"arsenal\" + 0.098*\"local\" + 0.096*\"football\" + 0.094*\"weekend\" + 0.094*\"defeat\" + 0.093*\"club\" + 0.033*\"london\" + 0.033*\"frenzy\" + 0.033*\"take\"'),\n",
       " (1,\n",
       "  '0.114*\"club\" + 0.113*\"football\" + 0.113*\"london\" + 0.112*\"bid\" + 0.111*\"stadium\" + 0.111*\"wembley\" + 0.031*\"weekend\" + 0.030*\"arsenal\" + 0.030*\"frenzy\" + 0.030*\"take\"'),\n",
       " (2,\n",
       "  '0.129*\"football\" + 0.081*\"club\" + 0.079*\"weekend\" + 0.078*\"arsenal\" + 0.064*\"bid\" + 0.064*\"london\" + 0.064*\"lose\" + 0.064*\"open\" + 0.064*\"bank\" + 0.064*\"million\"')]"
      ]
     },
     "execution_count": 7,
     "metadata": {},
     "output_type": "execute_result"
    }
   ],
   "source": [
    "from gensim.models.ldamodel import LdaModel\n",
    "ldamodel = LdaModel(corpus=corpus, num_topics=3, id2word=dictionary)\n",
    "ldamodel.show_topics()\n"
   ]
  },
  {
   "cell_type": "markdown",
   "id": "0e766f61",
   "metadata": {},
   "source": [
    "## Versão LSI"
   ]
  },
  {
   "cell_type": "code",
   "execution_count": 6,
   "id": "cf6daef3",
   "metadata": {},
   "outputs": [
    {
     "data": {
      "text/plain": [
       "[(0,\n",
       "  '0.532*\"football\" + 0.446*\"club\" + 0.315*\"arsenal\" + 0.300*\"bid\" + 0.232*\"weekend\" + 0.217*\"london\" + 0.169*\"open\" + 0.169*\"lose\" + 0.169*\"bank\" + 0.169*\"million\"'),\n",
       " (1,\n",
       "  '-0.434*\"weekend\" + -0.310*\"london\" + 0.297*\"bank\" + 0.297*\"open\" + 0.297*\"million\" + 0.297*\"lose\" + -0.282*\"take\" + -0.282*\"frenzy\" + 0.268*\"bid\" + -0.166*\"football\"'),\n",
       " (2,\n",
       "  '-0.437*\"london\" + 0.349*\"arsenal\" + 0.331*\"defeat\" + 0.331*\"local\" + 0.331*\"rival\" + -0.308*\"stadium\" + -0.308*\"wembley\" + -0.291*\"bid\" + 0.202*\"weekend\" + -0.129*\"frenzy\"'),\n",
       " (3,\n",
       "  '-0.381*\"frenzy\" + -0.381*\"take\" + 0.345*\"wembley\" + 0.345*\"stadium\" + 0.296*\"club\" + -0.234*\"open\" + -0.234*\"bank\" + -0.234*\"million\" + -0.234*\"lose\" + -0.195*\"weekend\"')]"
      ]
     },
     "execution_count": 6,
     "metadata": {},
     "output_type": "execute_result"
    }
   ],
   "source": [
    "from gensim.models.lsimodel import LsiModel\n",
    "lsimodel = LsiModel(corpus=corpus, num_topics=10, id2word=dictionary)\n",
    "lsimodel.show_topics(num_topics=3)\n"
   ]
  },
  {
   "cell_type": "markdown",
   "id": "433a6c46",
   "metadata": {},
   "source": [
    "### Algoritmo que escolhe a quantidade de tópicos"
   ]
  },
  {
   "cell_type": "code",
   "execution_count": 8,
   "id": "b3e41ae8",
   "metadata": {},
   "outputs": [
    {
     "data": {
      "text/plain": [
       "[(0,\n",
       "  '0.211*open + 0.189*arsenal + 0.125*wembley + 0.111*frenzy + 0.102*rival + 0.052*defeat + 0.047*weekend + 0.038*local + 0.030*million + 0.029*london + 0.020*bid + 0.014*take + 0.011*stadium + 0.009*lose + 0.007*bank + 0.004*club + 0.001*football'),\n",
       " (1,\n",
       "  '0.310*rival + 0.123*defeat + 0.109*local + 0.060*million + 0.060*take + 0.059*weekend + 0.055*wembley + 0.047*arsenal + 0.039*club + 0.033*london + 0.027*bid + 0.017*lose + 0.017*stadium + 0.016*frenzy + 0.011*bank + 0.010*football + 0.005*open'),\n",
       " (2,\n",
       "  '0.235*stadium + 0.207*bank + 0.162*arsenal + 0.078*club + 0.052*frenzy + 0.044*defeat + 0.042*local + 0.042*weekend + 0.027*open + 0.026*london + 0.024*rival + 0.020*football + 0.015*lose + 0.012*wembley + 0.012*bid + 0.002*million + 0.000*take'),\n",
       " (3,\n",
       "  '0.167*bid + 0.121*wembley + 0.118*frenzy + 0.117*stadium + 0.098*million + 0.071*local + 0.070*defeat + 0.057*lose + 0.042*club + 0.042*football + 0.033*take + 0.013*weekend + 0.012*rival + 0.011*arsenal + 0.011*open + 0.009*london + 0.007*bank'),\n",
       " (4,\n",
       "  '0.246*lose + 0.152*frenzy + 0.114*club + 0.086*rival + 0.056*arsenal + 0.052*open + 0.046*football + 0.043*defeat + 0.039*bid + 0.038*million + 0.031*stadium + 0.027*london + 0.024*weekend + 0.022*local + 0.020*take + 0.004*wembley + 0.001*bank'),\n",
       " (5,\n",
       "  '0.247*club + 0.196*open + 0.115*london + 0.084*arsenal + 0.059*frenzy + 0.045*lose + 0.045*stadium + 0.044*defeat + 0.032*bid + 0.027*bank + 0.026*weekend + 0.026*million + 0.020*rival + 0.019*local + 0.009*wembley + 0.003*take + 0.003*football'),\n",
       " (6,\n",
       "  '0.202*lose + 0.144*football + 0.108*bid + 0.090*open + 0.077*frenzy + 0.072*stadium + 0.071*defeat + 0.057*weekend + 0.042*million + 0.035*london + 0.031*local + 0.028*wembley + 0.023*rival + 0.015*take + 0.003*bank + 0.002*arsenal + 0.001*club'),\n",
       " (7,\n",
       "  '0.208*wembley + 0.128*bid + 0.125*frenzy + 0.110*open + 0.077*local + 0.077*defeat + 0.067*million + 0.065*lose + 0.038*weekend + 0.035*club + 0.018*bank + 0.014*take + 0.011*football + 0.009*arsenal + 0.007*rival + 0.006*london + 0.005*stadium'),\n",
       " (8,\n",
       "  '0.182*weekend + 0.174*rival + 0.154*arsenal + 0.081*open + 0.077*london + 0.075*local + 0.066*football + 0.033*bid + 0.030*stadium + 0.029*club + 0.026*take + 0.026*lose + 0.023*wembley + 0.019*million + 0.004*defeat + 0.002*frenzy + 0.000*bank'),\n",
       " (9,\n",
       "  '0.180*stadium + 0.177*frenzy + 0.124*local + 0.124*defeat + 0.070*london + 0.068*bank + 0.050*million + 0.035*wembley + 0.033*football + 0.028*club + 0.026*rival + 0.025*lose + 0.024*arsenal + 0.016*open + 0.011*take + 0.008*bid + 0.002*weekend'),\n",
       " (10,\n",
       "  '0.247*take + 0.140*bid + 0.124*million + 0.081*open + 0.074*lose + 0.071*wembley + 0.058*club + 0.056*bank + 0.049*frenzy + 0.042*defeat + 0.017*london + 0.014*arsenal + 0.009*weekend + 0.009*local + 0.004*football + 0.003*rival + 0.002*stadium'),\n",
       " (11,\n",
       "  '0.213*frenzy + 0.159*club + 0.142*bid + 0.094*bank + 0.073*rival + 0.065*weekend + 0.057*million + 0.057*arsenal + 0.052*london + 0.029*wembley + 0.016*take + 0.015*lose + 0.012*defeat + 0.010*local + 0.003*open + 0.002*football + 0.001*stadium'),\n",
       " (12,\n",
       "  '0.154*bid + 0.149*bank + 0.110*arsenal + 0.108*defeat + 0.106*take + 0.082*weekend + 0.062*lose + 0.047*frenzy + 0.036*london + 0.029*stadium + 0.027*wembley + 0.026*rival + 0.022*football + 0.020*local + 0.011*million + 0.007*open + 0.003*club'),\n",
       " (13,\n",
       "  '0.305*take + 0.127*open + 0.109*arsenal + 0.091*football + 0.088*bank + 0.063*london + 0.062*club + 0.045*rival + 0.035*weekend + 0.033*frenzy + 0.014*million + 0.014*bid + 0.008*local + 0.002*stadium + 0.002*defeat + 0.001*wembley + 0.001*lose'),\n",
       " (14,\n",
       "  '0.130*club + 0.120*open + 0.115*rival + 0.105*frenzy + 0.087*bank + 0.078*stadium + 0.065*weekend + 0.063*local + 0.062*take + 0.051*wembley + 0.031*arsenal + 0.029*bid + 0.017*london + 0.017*million + 0.014*lose + 0.013*football + 0.002*defeat'),\n",
       " (15,\n",
       "  '0.157*local + 0.114*bank + 0.108*club + 0.094*lose + 0.093*wembley + 0.074*london + 0.058*football + 0.052*open + 0.049*million + 0.040*arsenal + 0.037*bid + 0.033*frenzy + 0.031*stadium + 0.023*weekend + 0.018*rival + 0.014*defeat + 0.006*take'),\n",
       " (16,\n",
       "  '0.207*open + 0.181*bank + 0.113*bid + 0.096*football + 0.084*defeat + 0.074*stadium + 0.061*arsenal + 0.047*weekend + 0.032*club + 0.022*lose + 0.020*million + 0.018*rival + 0.017*frenzy + 0.014*take + 0.008*wembley + 0.007*london + 0.000*local'),\n",
       " (17,\n",
       "  '0.154*bank + 0.135*football + 0.133*arsenal + 0.093*million + 0.093*take + 0.074*club + 0.063*rival + 0.047*london + 0.034*weekend + 0.033*open + 0.030*stadium + 0.028*local + 0.025*lose + 0.021*defeat + 0.018*frenzy + 0.013*bid + 0.004*wembley'),\n",
       " (18,\n",
       "  '0.285*club + 0.108*bank + 0.101*rival + 0.087*lose + 0.084*london + 0.080*wembley + 0.051*bid + 0.038*weekend + 0.038*defeat + 0.033*take + 0.028*million + 0.022*open + 0.017*arsenal + 0.013*local + 0.005*frenzy + 0.005*football + 0.005*stadium'),\n",
       " (19,\n",
       "  '0.142*bank + 0.116*football + 0.108*stadium + 0.098*million + 0.080*open + 0.080*arsenal + 0.062*wembley + 0.058*rival + 0.053*defeat + 0.043*local + 0.036*bid + 0.032*frenzy + 0.028*london + 0.024*lose + 0.023*take + 0.016*weekend + 0.003*club')]"
      ]
     },
     "execution_count": 8,
     "metadata": {},
     "output_type": "execute_result"
    }
   ],
   "source": [
    "from gensim.models.hdpmodel import HdpModel\n",
    "hdpmodel = HdpModel(corpus=corpus, id2word=dictionary)\n",
    "hdpmodel.show_topics()\n"
   ]
  },
  {
   "cell_type": "code",
   "execution_count": null,
   "id": "13c405c7",
   "metadata": {},
   "outputs": [],
   "source": []
  }
 ],
 "metadata": {
  "kernelspec": {
   "display_name": "Python 3 (ipykernel)",
   "language": "python",
   "name": "python3"
  },
  "language_info": {
   "codemirror_mode": {
    "name": "ipython",
    "version": 3
   },
   "file_extension": ".py",
   "mimetype": "text/x-python",
   "name": "python",
   "nbconvert_exporter": "python",
   "pygments_lexer": "ipython3",
   "version": "3.9.12"
  }
 },
 "nbformat": 4,
 "nbformat_minor": 5
}
